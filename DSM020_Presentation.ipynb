{
  "nbformat": 4,
  "nbformat_minor": 0,
  "metadata": {
    "kernelspec": {
      "display_name": "Python 3",
      "language": "python",
      "name": "python3"
    },
    "language_info": {
      "codemirror_mode": {
        "name": "ipython",
        "version": 3
      },
      "file_extension": ".py",
      "mimetype": "text/x-python",
      "name": "python",
      "nbconvert_exporter": "python",
      "pygments_lexer": "ipython3",
      "version": "3.8.5"
    },
    "colab": {
      "name": "DSM020 - Presentation.ipynb",
      "provenance": [],
      "collapsed_sections": [
        "CKANw86nLSxM",
        "AqiO7xfuTx3C",
        "QCJ8qCy4M5d-",
        "MdhsHOgVLSxY",
        "OnZDr8QyLSxc",
        "e1YV1GCcLSxd"
      ],
      "toc_visible": true,
      "include_colab_link": true
    }
  },
  "cells": [
    {
      "cell_type": "markdown",
      "metadata": {
        "id": "view-in-github",
        "colab_type": "text"
      },
      "source": [
        "<a href=\"https://colab.research.google.com/github/YeKyawSoe/DSM020/blob/main/DSM020_Presentation.ipynb\" target=\"_parent\"><img src=\"https://colab.research.google.com/assets/colab-badge.svg\" alt=\"Open In Colab\"/></a>"
      ]
    },
    {
      "cell_type": "markdown",
      "metadata": {
        "id": "CKANw86nLSxM"
      },
      "source": [
        "## **Module**: Data Programming in Python DSM020-2021-APR\n",
        "### *Coursework: Apr 2021*\n",
        "\n",
        "## Group-2 Teamwork - Excercise 20/May/2021\n",
        "### Team Members: Pei Xuan, Bin Bin, Michael, Ashok\n"
      ]
    },
    {
      "cell_type": "markdown",
      "metadata": {
        "id": "AqiO7xfuTx3C"
      },
      "source": [
        "# New section"
      ]
    },
    {
      "cell_type": "markdown",
      "metadata": {
        "id": "BoROI3niLSxT"
      },
      "source": [
        "#Study & Analysis on the key impact of household electricty consumption due to COVID-19 (before & during pandemic)\n",
        "According to Today 14 May 2021, due to the increasing number of community cases, Singapore will be entering Phase 2 (Heightened Alert) from 16 May - 13 Jun 2021. In this new phase, dining-in is prohibited and only takeaway and delivery are allowed. In addition, work arrangements will resume to \"working-from-home\" as the default arrangement. With these measures that shift most of the daily activities to be confined within the home environment, it is inevitable that we would think about the possible increase in utilities bill.\n",
        "\n",
        "In this project, we would like to study if the Covid-19 situation has **affected the trend of the household electricity consumption in Singapore**. For the purpose of this project, we are focusing on the electricity consumption for the 3-room and 4-room housing types.\n"
      ]
    },
    {
      "cell_type": "markdown",
      "metadata": {
        "id": "qv0euGEJLSxT"
      },
      "source": [
        "\n",
        "```\n",
        "# This is formatted as code\n",
        "```\n",
        "\n",
        "### Common libraries import for data processing & analysis"
      ]
    },
    {
      "cell_type": "code",
      "metadata": {
        "scrolled": true,
        "id": "D3BHVj2vLSxU"
      },
      "source": [
        "import pandas as pd\n",
        "import numpy as np\n",
        "import requests\n",
        "import json\n",
        "from pandas import json_normalize\n"
      ],
      "execution_count": null,
      "outputs": []
    },
    {
      "cell_type": "markdown",
      "metadata": {
        "id": "QCJ8qCy4M5d-"
      },
      "source": [
        "### **1.Reading/Scraping the dataset**\n",
        "\n",
        "The dataset that we are going to use for this group excercise is shared and made available at this Github link.\n",
        "\n",
        "Let's first see how the dataset looks like using the head() method:"
      ]
    },
    {
      "cell_type": "code",
      "metadata": {
        "id": "Ao4hysE2jKyA"
      },
      "source": [
        "# GET request for Covid dataset\n",
        "\n",
        "url_c = \"https://raw.githubusercontent.com/owid/covid-19-data/master/public/data/owid-covid-data.csv\"\n",
        "\n",
        "covid_daily = pd.read_csv(url_c)"
      ],
      "execution_count": null,
      "outputs": []
    },
    {
      "cell_type": "code",
      "metadata": {
        "id": "KcORg7rOjLDr"
      },
      "source": [
        "# GET request for Electricity dataset\n",
        "\n",
        "parameters_e = {\"resource_id\": \"4feb82a2-0d2e-4e8a-bc74-dd8c0c960af8\", \"q\": 2020, \"limit\": 7}\n",
        "url_e = 'https://data.gov.sg/api/action/datastore_search'\n",
        "\n",
        "response_e = requests.get(url_e, params= parameters_e)\n",
        "dict_e = response_e.json()\n",
        "rec_e = dict_e['result']['records']\n",
        "\n",
        "electricity_monthly = json_normalize(rec_e)"
      ],
      "execution_count": null,
      "outputs": []
    },
    {
      "cell_type": "code",
      "metadata": {
        "id": "CuaqPlDPjLO7"
      },
      "source": [
        "# GET request for Temperature dataset\n",
        "\n",
        "parameters_t = {\"resource_id\": \"07654ce7-f97f-49c9-81c6-bd41beba4e96\", \"q\": 2020, \"limit\": 12}\n",
        "url_t = 'https://data.gov.sg/api/action/datastore_search'\n",
        "\n",
        "response_t = requests.get(url_t, params= parameters_t)\n",
        "dict_t = response_t.json()\n",
        "rec_t = dict_t['result']['records']\n",
        "\n",
        "temperature_monthly = json_normalize(rec_t)"
      ],
      "execution_count": null,
      "outputs": []
    },
    {
      "cell_type": "code",
      "metadata": {
        "id": "9CunYcrbjLbv"
      },
      "source": [
        "# GET request for Humidity dataset\n",
        "\n",
        "parameters_h = {\"resource_id\": \"4631174f-9858-463d-8a88-f3cb21588c67\", \"q\": 2020, \"limit\": 12}\n",
        "url_h = 'https://data.gov.sg/api/action/datastore_search'\n",
        "\n",
        "response_h = requests.get(url_h, params= parameters_h)\n",
        "dict_h = response_h.json()\n",
        "rec_h = dict_h['result']['records']\n",
        "\n",
        "humidity_monthly = json_normalize(rec_h)"
      ],
      "execution_count": null,
      "outputs": []
    },
    {
      "cell_type": "markdown",
      "metadata": {
        "id": "-Ypb23jqLSxU"
      },
      "source": [
        "**Coronavirus Pandemic Country Profile (Covid) - upto Dec'2020**"
      ]
    },
    {
      "cell_type": "code",
      "metadata": {
        "scrolled": false,
        "colab": {
          "base_uri": "https://localhost:8080/",
          "height": 309
        },
        "id": "GMfXebiiLSxV",
        "outputId": "c4187d8e-97e9-411f-f0a6-1878fe4ef3a3"
      },
      "source": [
        "covid_daily.head(5)"
      ],
      "execution_count": null,
      "outputs": [
        {
          "output_type": "execute_result",
          "data": {
            "text/html": [
              "<div>\n",
              "<style scoped>\n",
              "    .dataframe tbody tr th:only-of-type {\n",
              "        vertical-align: middle;\n",
              "    }\n",
              "\n",
              "    .dataframe tbody tr th {\n",
              "        vertical-align: top;\n",
              "    }\n",
              "\n",
              "    .dataframe thead th {\n",
              "        text-align: right;\n",
              "    }\n",
              "</style>\n",
              "<table border=\"1\" class=\"dataframe\">\n",
              "  <thead>\n",
              "    <tr style=\"text-align: right;\">\n",
              "      <th></th>\n",
              "      <th>iso_code</th>\n",
              "      <th>continent</th>\n",
              "      <th>location</th>\n",
              "      <th>date</th>\n",
              "      <th>total_cases</th>\n",
              "      <th>new_cases</th>\n",
              "      <th>new_cases_smoothed</th>\n",
              "      <th>total_deaths</th>\n",
              "      <th>new_deaths</th>\n",
              "      <th>new_deaths_smoothed</th>\n",
              "      <th>total_cases_per_million</th>\n",
              "      <th>new_cases_per_million</th>\n",
              "      <th>new_cases_smoothed_per_million</th>\n",
              "      <th>total_deaths_per_million</th>\n",
              "      <th>new_deaths_per_million</th>\n",
              "      <th>new_deaths_smoothed_per_million</th>\n",
              "      <th>reproduction_rate</th>\n",
              "      <th>icu_patients</th>\n",
              "      <th>icu_patients_per_million</th>\n",
              "      <th>hosp_patients</th>\n",
              "      <th>hosp_patients_per_million</th>\n",
              "      <th>weekly_icu_admissions</th>\n",
              "      <th>weekly_icu_admissions_per_million</th>\n",
              "      <th>weekly_hosp_admissions</th>\n",
              "      <th>weekly_hosp_admissions_per_million</th>\n",
              "      <th>new_tests</th>\n",
              "      <th>total_tests</th>\n",
              "      <th>total_tests_per_thousand</th>\n",
              "      <th>new_tests_per_thousand</th>\n",
              "      <th>new_tests_smoothed</th>\n",
              "      <th>new_tests_smoothed_per_thousand</th>\n",
              "      <th>positive_rate</th>\n",
              "      <th>tests_per_case</th>\n",
              "      <th>tests_units</th>\n",
              "      <th>total_vaccinations</th>\n",
              "      <th>people_vaccinated</th>\n",
              "      <th>people_fully_vaccinated</th>\n",
              "      <th>new_vaccinations</th>\n",
              "      <th>new_vaccinations_smoothed</th>\n",
              "      <th>total_vaccinations_per_hundred</th>\n",
              "      <th>people_vaccinated_per_hundred</th>\n",
              "      <th>people_fully_vaccinated_per_hundred</th>\n",
              "      <th>new_vaccinations_smoothed_per_million</th>\n",
              "      <th>stringency_index</th>\n",
              "      <th>population</th>\n",
              "      <th>population_density</th>\n",
              "      <th>median_age</th>\n",
              "      <th>aged_65_older</th>\n",
              "      <th>aged_70_older</th>\n",
              "      <th>gdp_per_capita</th>\n",
              "      <th>extreme_poverty</th>\n",
              "      <th>cardiovasc_death_rate</th>\n",
              "      <th>diabetes_prevalence</th>\n",
              "      <th>female_smokers</th>\n",
              "      <th>male_smokers</th>\n",
              "      <th>handwashing_facilities</th>\n",
              "      <th>hospital_beds_per_thousand</th>\n",
              "      <th>life_expectancy</th>\n",
              "      <th>human_development_index</th>\n",
              "    </tr>\n",
              "  </thead>\n",
              "  <tbody>\n",
              "    <tr>\n",
              "      <th>0</th>\n",
              "      <td>AFG</td>\n",
              "      <td>Asia</td>\n",
              "      <td>Afghanistan</td>\n",
              "      <td>2020-02-24</td>\n",
              "      <td>1.0</td>\n",
              "      <td>1.0</td>\n",
              "      <td>NaN</td>\n",
              "      <td>NaN</td>\n",
              "      <td>NaN</td>\n",
              "      <td>NaN</td>\n",
              "      <td>0.026</td>\n",
              "      <td>0.026</td>\n",
              "      <td>NaN</td>\n",
              "      <td>NaN</td>\n",
              "      <td>NaN</td>\n",
              "      <td>NaN</td>\n",
              "      <td>NaN</td>\n",
              "      <td>NaN</td>\n",
              "      <td>NaN</td>\n",
              "      <td>NaN</td>\n",
              "      <td>NaN</td>\n",
              "      <td>NaN</td>\n",
              "      <td>NaN</td>\n",
              "      <td>NaN</td>\n",
              "      <td>NaN</td>\n",
              "      <td>NaN</td>\n",
              "      <td>NaN</td>\n",
              "      <td>NaN</td>\n",
              "      <td>NaN</td>\n",
              "      <td>NaN</td>\n",
              "      <td>NaN</td>\n",
              "      <td>NaN</td>\n",
              "      <td>NaN</td>\n",
              "      <td>NaN</td>\n",
              "      <td>NaN</td>\n",
              "      <td>NaN</td>\n",
              "      <td>NaN</td>\n",
              "      <td>NaN</td>\n",
              "      <td>NaN</td>\n",
              "      <td>NaN</td>\n",
              "      <td>NaN</td>\n",
              "      <td>NaN</td>\n",
              "      <td>NaN</td>\n",
              "      <td>8.33</td>\n",
              "      <td>38928341.0</td>\n",
              "      <td>54.422</td>\n",
              "      <td>18.6</td>\n",
              "      <td>2.581</td>\n",
              "      <td>1.337</td>\n",
              "      <td>1803.987</td>\n",
              "      <td>NaN</td>\n",
              "      <td>597.029</td>\n",
              "      <td>9.59</td>\n",
              "      <td>NaN</td>\n",
              "      <td>NaN</td>\n",
              "      <td>37.746</td>\n",
              "      <td>0.5</td>\n",
              "      <td>64.83</td>\n",
              "      <td>0.511</td>\n",
              "    </tr>\n",
              "    <tr>\n",
              "      <th>1</th>\n",
              "      <td>AFG</td>\n",
              "      <td>Asia</td>\n",
              "      <td>Afghanistan</td>\n",
              "      <td>2020-02-25</td>\n",
              "      <td>1.0</td>\n",
              "      <td>0.0</td>\n",
              "      <td>NaN</td>\n",
              "      <td>NaN</td>\n",
              "      <td>NaN</td>\n",
              "      <td>NaN</td>\n",
              "      <td>0.026</td>\n",
              "      <td>0.000</td>\n",
              "      <td>NaN</td>\n",
              "      <td>NaN</td>\n",
              "      <td>NaN</td>\n",
              "      <td>NaN</td>\n",
              "      <td>NaN</td>\n",
              "      <td>NaN</td>\n",
              "      <td>NaN</td>\n",
              "      <td>NaN</td>\n",
              "      <td>NaN</td>\n",
              "      <td>NaN</td>\n",
              "      <td>NaN</td>\n",
              "      <td>NaN</td>\n",
              "      <td>NaN</td>\n",
              "      <td>NaN</td>\n",
              "      <td>NaN</td>\n",
              "      <td>NaN</td>\n",
              "      <td>NaN</td>\n",
              "      <td>NaN</td>\n",
              "      <td>NaN</td>\n",
              "      <td>NaN</td>\n",
              "      <td>NaN</td>\n",
              "      <td>NaN</td>\n",
              "      <td>NaN</td>\n",
              "      <td>NaN</td>\n",
              "      <td>NaN</td>\n",
              "      <td>NaN</td>\n",
              "      <td>NaN</td>\n",
              "      <td>NaN</td>\n",
              "      <td>NaN</td>\n",
              "      <td>NaN</td>\n",
              "      <td>NaN</td>\n",
              "      <td>8.33</td>\n",
              "      <td>38928341.0</td>\n",
              "      <td>54.422</td>\n",
              "      <td>18.6</td>\n",
              "      <td>2.581</td>\n",
              "      <td>1.337</td>\n",
              "      <td>1803.987</td>\n",
              "      <td>NaN</td>\n",
              "      <td>597.029</td>\n",
              "      <td>9.59</td>\n",
              "      <td>NaN</td>\n",
              "      <td>NaN</td>\n",
              "      <td>37.746</td>\n",
              "      <td>0.5</td>\n",
              "      <td>64.83</td>\n",
              "      <td>0.511</td>\n",
              "    </tr>\n",
              "    <tr>\n",
              "      <th>2</th>\n",
              "      <td>AFG</td>\n",
              "      <td>Asia</td>\n",
              "      <td>Afghanistan</td>\n",
              "      <td>2020-02-26</td>\n",
              "      <td>1.0</td>\n",
              "      <td>0.0</td>\n",
              "      <td>NaN</td>\n",
              "      <td>NaN</td>\n",
              "      <td>NaN</td>\n",
              "      <td>NaN</td>\n",
              "      <td>0.026</td>\n",
              "      <td>0.000</td>\n",
              "      <td>NaN</td>\n",
              "      <td>NaN</td>\n",
              "      <td>NaN</td>\n",
              "      <td>NaN</td>\n",
              "      <td>NaN</td>\n",
              "      <td>NaN</td>\n",
              "      <td>NaN</td>\n",
              "      <td>NaN</td>\n",
              "      <td>NaN</td>\n",
              "      <td>NaN</td>\n",
              "      <td>NaN</td>\n",
              "      <td>NaN</td>\n",
              "      <td>NaN</td>\n",
              "      <td>NaN</td>\n",
              "      <td>NaN</td>\n",
              "      <td>NaN</td>\n",
              "      <td>NaN</td>\n",
              "      <td>NaN</td>\n",
              "      <td>NaN</td>\n",
              "      <td>NaN</td>\n",
              "      <td>NaN</td>\n",
              "      <td>NaN</td>\n",
              "      <td>NaN</td>\n",
              "      <td>NaN</td>\n",
              "      <td>NaN</td>\n",
              "      <td>NaN</td>\n",
              "      <td>NaN</td>\n",
              "      <td>NaN</td>\n",
              "      <td>NaN</td>\n",
              "      <td>NaN</td>\n",
              "      <td>NaN</td>\n",
              "      <td>8.33</td>\n",
              "      <td>38928341.0</td>\n",
              "      <td>54.422</td>\n",
              "      <td>18.6</td>\n",
              "      <td>2.581</td>\n",
              "      <td>1.337</td>\n",
              "      <td>1803.987</td>\n",
              "      <td>NaN</td>\n",
              "      <td>597.029</td>\n",
              "      <td>9.59</td>\n",
              "      <td>NaN</td>\n",
              "      <td>NaN</td>\n",
              "      <td>37.746</td>\n",
              "      <td>0.5</td>\n",
              "      <td>64.83</td>\n",
              "      <td>0.511</td>\n",
              "    </tr>\n",
              "    <tr>\n",
              "      <th>3</th>\n",
              "      <td>AFG</td>\n",
              "      <td>Asia</td>\n",
              "      <td>Afghanistan</td>\n",
              "      <td>2020-02-27</td>\n",
              "      <td>1.0</td>\n",
              "      <td>0.0</td>\n",
              "      <td>NaN</td>\n",
              "      <td>NaN</td>\n",
              "      <td>NaN</td>\n",
              "      <td>NaN</td>\n",
              "      <td>0.026</td>\n",
              "      <td>0.000</td>\n",
              "      <td>NaN</td>\n",
              "      <td>NaN</td>\n",
              "      <td>NaN</td>\n",
              "      <td>NaN</td>\n",
              "      <td>NaN</td>\n",
              "      <td>NaN</td>\n",
              "      <td>NaN</td>\n",
              "      <td>NaN</td>\n",
              "      <td>NaN</td>\n",
              "      <td>NaN</td>\n",
              "      <td>NaN</td>\n",
              "      <td>NaN</td>\n",
              "      <td>NaN</td>\n",
              "      <td>NaN</td>\n",
              "      <td>NaN</td>\n",
              "      <td>NaN</td>\n",
              "      <td>NaN</td>\n",
              "      <td>NaN</td>\n",
              "      <td>NaN</td>\n",
              "      <td>NaN</td>\n",
              "      <td>NaN</td>\n",
              "      <td>NaN</td>\n",
              "      <td>NaN</td>\n",
              "      <td>NaN</td>\n",
              "      <td>NaN</td>\n",
              "      <td>NaN</td>\n",
              "      <td>NaN</td>\n",
              "      <td>NaN</td>\n",
              "      <td>NaN</td>\n",
              "      <td>NaN</td>\n",
              "      <td>NaN</td>\n",
              "      <td>8.33</td>\n",
              "      <td>38928341.0</td>\n",
              "      <td>54.422</td>\n",
              "      <td>18.6</td>\n",
              "      <td>2.581</td>\n",
              "      <td>1.337</td>\n",
              "      <td>1803.987</td>\n",
              "      <td>NaN</td>\n",
              "      <td>597.029</td>\n",
              "      <td>9.59</td>\n",
              "      <td>NaN</td>\n",
              "      <td>NaN</td>\n",
              "      <td>37.746</td>\n",
              "      <td>0.5</td>\n",
              "      <td>64.83</td>\n",
              "      <td>0.511</td>\n",
              "    </tr>\n",
              "    <tr>\n",
              "      <th>4</th>\n",
              "      <td>AFG</td>\n",
              "      <td>Asia</td>\n",
              "      <td>Afghanistan</td>\n",
              "      <td>2020-02-28</td>\n",
              "      <td>1.0</td>\n",
              "      <td>0.0</td>\n",
              "      <td>NaN</td>\n",
              "      <td>NaN</td>\n",
              "      <td>NaN</td>\n",
              "      <td>NaN</td>\n",
              "      <td>0.026</td>\n",
              "      <td>0.000</td>\n",
              "      <td>NaN</td>\n",
              "      <td>NaN</td>\n",
              "      <td>NaN</td>\n",
              "      <td>NaN</td>\n",
              "      <td>NaN</td>\n",
              "      <td>NaN</td>\n",
              "      <td>NaN</td>\n",
              "      <td>NaN</td>\n",
              "      <td>NaN</td>\n",
              "      <td>NaN</td>\n",
              "      <td>NaN</td>\n",
              "      <td>NaN</td>\n",
              "      <td>NaN</td>\n",
              "      <td>NaN</td>\n",
              "      <td>NaN</td>\n",
              "      <td>NaN</td>\n",
              "      <td>NaN</td>\n",
              "      <td>NaN</td>\n",
              "      <td>NaN</td>\n",
              "      <td>NaN</td>\n",
              "      <td>NaN</td>\n",
              "      <td>NaN</td>\n",
              "      <td>NaN</td>\n",
              "      <td>NaN</td>\n",
              "      <td>NaN</td>\n",
              "      <td>NaN</td>\n",
              "      <td>NaN</td>\n",
              "      <td>NaN</td>\n",
              "      <td>NaN</td>\n",
              "      <td>NaN</td>\n",
              "      <td>NaN</td>\n",
              "      <td>8.33</td>\n",
              "      <td>38928341.0</td>\n",
              "      <td>54.422</td>\n",
              "      <td>18.6</td>\n",
              "      <td>2.581</td>\n",
              "      <td>1.337</td>\n",
              "      <td>1803.987</td>\n",
              "      <td>NaN</td>\n",
              "      <td>597.029</td>\n",
              "      <td>9.59</td>\n",
              "      <td>NaN</td>\n",
              "      <td>NaN</td>\n",
              "      <td>37.746</td>\n",
              "      <td>0.5</td>\n",
              "      <td>64.83</td>\n",
              "      <td>0.511</td>\n",
              "    </tr>\n",
              "  </tbody>\n",
              "</table>\n",
              "</div>"
            ],
            "text/plain": [
              "  iso_code continent  ... life_expectancy human_development_index\n",
              "0      AFG      Asia  ...           64.83                   0.511\n",
              "1      AFG      Asia  ...           64.83                   0.511\n",
              "2      AFG      Asia  ...           64.83                   0.511\n",
              "3      AFG      Asia  ...           64.83                   0.511\n",
              "4      AFG      Asia  ...           64.83                   0.511\n",
              "\n",
              "[5 rows x 59 columns]"
            ]
          },
          "metadata": {
            "tags": []
          },
          "execution_count": 6
        }
      ]
    },
    {
      "cell_type": "markdown",
      "metadata": {
        "id": "gqQCJXnpLSxW"
      },
      "source": [
        "**Observations:**\n",
        "- The dataset contains data for locations outside of Singapore, which is not relevant to our analysis in this project. We will only need data for Singapore.\n",
        "- We are only interested in the number of new cases, so we will be using **'new_cases'** column for our analysis.\n",
        "- The dataset has a **daily** time period, which is something that we need to process before we merge with the dataset on electricity consumption, which has a **monthly** time period.\n",
        "- The time period that we use for this dataset will have to correspond with the electricity consumption dataset (i.e. 2020)."
      ]
    },
    {
      "cell_type": "markdown",
      "metadata": {
        "id": "vJOFf9dBLSxX"
      },
      "source": [
        "**Household Electricity Consumption by Dwelling Type - Monthly Mean**"
      ]
    },
    {
      "cell_type": "code",
      "metadata": {
        "scrolled": false,
        "colab": {
          "base_uri": "https://localhost:8080/",
          "height": 204
        },
        "id": "amTGQRZTLSxX",
        "outputId": "4259a5dd-9dc2-48ea-fbbe-6ecef531b699"
      },
      "source": [
        "electricity_monthly.head(5)\n"
      ],
      "execution_count": null,
      "outputs": [
        {
          "output_type": "execute_result",
          "data": {
            "text/html": [
              "<div>\n",
              "<style scoped>\n",
              "    .dataframe tbody tr th:only-of-type {\n",
              "        vertical-align: middle;\n",
              "    }\n",
              "\n",
              "    .dataframe tbody tr th {\n",
              "        vertical-align: top;\n",
              "    }\n",
              "\n",
              "    .dataframe thead th {\n",
              "        text-align: right;\n",
              "    }\n",
              "</style>\n",
              "<table border=\"1\" class=\"dataframe\">\n",
              "  <thead>\n",
              "    <tr style=\"text-align: right;\">\n",
              "      <th></th>\n",
              "      <th>landed_properties</th>\n",
              "      <th>_full_count</th>\n",
              "      <th>private_housing</th>\n",
              "      <th>4-room</th>\n",
              "      <th>3-room</th>\n",
              "      <th>overall</th>\n",
              "      <th>rank</th>\n",
              "      <th>month</th>\n",
              "      <th>public_housing</th>\n",
              "      <th>5-room_and_executive</th>\n",
              "      <th>others</th>\n",
              "      <th>_id</th>\n",
              "      <th>1-room_2-room</th>\n",
              "      <th>private_apts_and_condo</th>\n",
              "    </tr>\n",
              "  </thead>\n",
              "  <tbody>\n",
              "    <tr>\n",
              "      <th>0</th>\n",
              "      <td>1072.4</td>\n",
              "      <td>14</td>\n",
              "      <td>572.1</td>\n",
              "      <td>324.5</td>\n",
              "      <td>239.6</td>\n",
              "      <td>384.3</td>\n",
              "      <td>0.057309</td>\n",
              "      <td>2020-01</td>\n",
              "      <td>310.5</td>\n",
              "      <td>388.7</td>\n",
              "      <td>676</td>\n",
              "      <td>31</td>\n",
              "      <td>146.4</td>\n",
              "      <td>459.5</td>\n",
              "    </tr>\n",
              "    <tr>\n",
              "      <th>1</th>\n",
              "      <td>1157.9</td>\n",
              "      <td>14</td>\n",
              "      <td>607.7</td>\n",
              "      <td>341.1</td>\n",
              "      <td>252.5</td>\n",
              "      <td>406.7</td>\n",
              "      <td>0.057309</td>\n",
              "      <td>2020-02</td>\n",
              "      <td>327.7</td>\n",
              "      <td>413.5</td>\n",
              "      <td>741.2</td>\n",
              "      <td>32</td>\n",
              "      <td>151</td>\n",
              "      <td>484.3</td>\n",
              "    </tr>\n",
              "    <tr>\n",
              "      <th>2</th>\n",
              "      <td>1184.7</td>\n",
              "      <td>14</td>\n",
              "      <td>640.6</td>\n",
              "      <td>348.6</td>\n",
              "      <td>255.8</td>\n",
              "      <td>420.9</td>\n",
              "      <td>0.057309</td>\n",
              "      <td>2020-03</td>\n",
              "      <td>334.7</td>\n",
              "      <td>425.6</td>\n",
              "      <td>714.2</td>\n",
              "      <td>33</td>\n",
              "      <td>150.7</td>\n",
              "      <td>518.4</td>\n",
              "    </tr>\n",
              "    <tr>\n",
              "      <th>3</th>\n",
              "      <td>1290.7</td>\n",
              "      <td>14</td>\n",
              "      <td>689</td>\n",
              "      <td>377.3</td>\n",
              "      <td>275.2</td>\n",
              "      <td>453.3</td>\n",
              "      <td>0.057309</td>\n",
              "      <td>2020-04</td>\n",
              "      <td>360.9</td>\n",
              "      <td>458.7</td>\n",
              "      <td>825.4</td>\n",
              "      <td>34</td>\n",
              "      <td>160.3</td>\n",
              "      <td>554.2</td>\n",
              "    </tr>\n",
              "    <tr>\n",
              "      <th>4</th>\n",
              "      <td>1277.9</td>\n",
              "      <td>14</td>\n",
              "      <td>681.7</td>\n",
              "      <td>377.7</td>\n",
              "      <td>278.7</td>\n",
              "      <td>450.9</td>\n",
              "      <td>0.057309</td>\n",
              "      <td>2020-05</td>\n",
              "      <td>360.7</td>\n",
              "      <td>453.5</td>\n",
              "      <td>881.2</td>\n",
              "      <td>35</td>\n",
              "      <td>165.9</td>\n",
              "      <td>547.4</td>\n",
              "    </tr>\n",
              "  </tbody>\n",
              "</table>\n",
              "</div>"
            ],
            "text/plain": [
              "  landed_properties _full_count  ... 1-room_2-room private_apts_and_condo\n",
              "0            1072.4          14  ...         146.4                  459.5\n",
              "1            1157.9          14  ...           151                  484.3\n",
              "2            1184.7          14  ...         150.7                  518.4\n",
              "3            1290.7          14  ...         160.3                  554.2\n",
              "4            1277.9          14  ...         165.9                  547.4\n",
              "\n",
              "[5 rows x 14 columns]"
            ]
          },
          "metadata": {
            "tags": []
          },
          "execution_count": 7
        }
      ]
    },
    {
      "cell_type": "markdown",
      "metadata": {
        "id": "CMiqAPTsO2uu"
      },
      "source": [
        "**Surface Air Temperature - Monthly Mean**"
      ]
    },
    {
      "cell_type": "code",
      "metadata": {
        "colab": {
          "base_uri": "https://localhost:8080/",
          "height": 204
        },
        "id": "J7BBht2IO3DC",
        "outputId": "daa02a91-5d09-4dae-9c4c-baaa83d0f809"
      },
      "source": [
        "temperature_monthly.head(5)"
      ],
      "execution_count": null,
      "outputs": [
        {
          "output_type": "execute_result",
          "data": {
            "text/html": [
              "<div>\n",
              "<style scoped>\n",
              "    .dataframe tbody tr th:only-of-type {\n",
              "        vertical-align: middle;\n",
              "    }\n",
              "\n",
              "    .dataframe tbody tr th {\n",
              "        vertical-align: top;\n",
              "    }\n",
              "\n",
              "    .dataframe thead th {\n",
              "        text-align: right;\n",
              "    }\n",
              "</style>\n",
              "<table border=\"1\" class=\"dataframe\">\n",
              "  <thead>\n",
              "    <tr style=\"text-align: right;\">\n",
              "      <th></th>\n",
              "      <th>mean_temp</th>\n",
              "      <th>_id</th>\n",
              "      <th>_full_count</th>\n",
              "      <th>rank</th>\n",
              "      <th>month</th>\n",
              "    </tr>\n",
              "  </thead>\n",
              "  <tbody>\n",
              "    <tr>\n",
              "      <th>0</th>\n",
              "      <td>27.7</td>\n",
              "      <td>457</td>\n",
              "      <td>12</td>\n",
              "      <td>0.057309</td>\n",
              "      <td>2020-01</td>\n",
              "    </tr>\n",
              "    <tr>\n",
              "      <th>1</th>\n",
              "      <td>27.9</td>\n",
              "      <td>458</td>\n",
              "      <td>12</td>\n",
              "      <td>0.057309</td>\n",
              "      <td>2020-02</td>\n",
              "    </tr>\n",
              "    <tr>\n",
              "      <th>2</th>\n",
              "      <td>28.6</td>\n",
              "      <td>459</td>\n",
              "      <td>12</td>\n",
              "      <td>0.057309</td>\n",
              "      <td>2020-03</td>\n",
              "    </tr>\n",
              "    <tr>\n",
              "      <th>3</th>\n",
              "      <td>28.9</td>\n",
              "      <td>460</td>\n",
              "      <td>12</td>\n",
              "      <td>0.057309</td>\n",
              "      <td>2020-04</td>\n",
              "    </tr>\n",
              "    <tr>\n",
              "      <th>4</th>\n",
              "      <td>28.9</td>\n",
              "      <td>461</td>\n",
              "      <td>12</td>\n",
              "      <td>0.057309</td>\n",
              "      <td>2020-05</td>\n",
              "    </tr>\n",
              "  </tbody>\n",
              "</table>\n",
              "</div>"
            ],
            "text/plain": [
              "  mean_temp  _id _full_count      rank    month\n",
              "0      27.7  457          12  0.057309  2020-01\n",
              "1      27.9  458          12  0.057309  2020-02\n",
              "2      28.6  459          12  0.057309  2020-03\n",
              "3      28.9  460          12  0.057309  2020-04\n",
              "4      28.9  461          12  0.057309  2020-05"
            ]
          },
          "metadata": {
            "tags": []
          },
          "execution_count": 8
        }
      ]
    },
    {
      "cell_type": "markdown",
      "metadata": {
        "id": "cbIFlBU6MRQD"
      },
      "source": [
        "**Relative Humidity - Monthly Mean**"
      ]
    },
    {
      "cell_type": "code",
      "metadata": {
        "colab": {
          "base_uri": "https://localhost:8080/",
          "height": 204
        },
        "id": "kv_Qrm6XMAcO",
        "outputId": "3db89fcb-7f6d-41f5-b983-850e71cd07f3"
      },
      "source": [
        "humidity_monthly.head(5)"
      ],
      "execution_count": null,
      "outputs": [
        {
          "output_type": "execute_result",
          "data": {
            "text/html": [
              "<div>\n",
              "<style scoped>\n",
              "    .dataframe tbody tr th:only-of-type {\n",
              "        vertical-align: middle;\n",
              "    }\n",
              "\n",
              "    .dataframe tbody tr th {\n",
              "        vertical-align: top;\n",
              "    }\n",
              "\n",
              "    .dataframe thead th {\n",
              "        text-align: right;\n",
              "    }\n",
              "</style>\n",
              "<table border=\"1\" class=\"dataframe\">\n",
              "  <thead>\n",
              "    <tr style=\"text-align: right;\">\n",
              "      <th></th>\n",
              "      <th>mean_rh</th>\n",
              "      <th>_id</th>\n",
              "      <th>_full_count</th>\n",
              "      <th>rank</th>\n",
              "      <th>month</th>\n",
              "    </tr>\n",
              "  </thead>\n",
              "  <tbody>\n",
              "    <tr>\n",
              "      <th>0</th>\n",
              "      <td>77.9</td>\n",
              "      <td>457</td>\n",
              "      <td>12</td>\n",
              "      <td>0.057309</td>\n",
              "      <td>2020-01</td>\n",
              "    </tr>\n",
              "    <tr>\n",
              "      <th>1</th>\n",
              "      <td>76</td>\n",
              "      <td>458</td>\n",
              "      <td>12</td>\n",
              "      <td>0.057309</td>\n",
              "      <td>2020-02</td>\n",
              "    </tr>\n",
              "    <tr>\n",
              "      <th>2</th>\n",
              "      <td>75.2</td>\n",
              "      <td>459</td>\n",
              "      <td>12</td>\n",
              "      <td>0.057309</td>\n",
              "      <td>2020-03</td>\n",
              "    </tr>\n",
              "    <tr>\n",
              "      <th>3</th>\n",
              "      <td>76.4</td>\n",
              "      <td>460</td>\n",
              "      <td>12</td>\n",
              "      <td>0.057309</td>\n",
              "      <td>2020-04</td>\n",
              "    </tr>\n",
              "    <tr>\n",
              "      <th>4</th>\n",
              "      <td>79.1</td>\n",
              "      <td>461</td>\n",
              "      <td>12</td>\n",
              "      <td>0.057309</td>\n",
              "      <td>2020-05</td>\n",
              "    </tr>\n",
              "  </tbody>\n",
              "</table>\n",
              "</div>"
            ],
            "text/plain": [
              "  mean_rh  _id _full_count      rank    month\n",
              "0    77.9  457          12  0.057309  2020-01\n",
              "1      76  458          12  0.057309  2020-02\n",
              "2    75.2  459          12  0.057309  2020-03\n",
              "3    76.4  460          12  0.057309  2020-04\n",
              "4    79.1  461          12  0.057309  2020-05"
            ]
          },
          "metadata": {
            "tags": []
          },
          "execution_count": 9
        }
      ]
    },
    {
      "cell_type": "markdown",
      "metadata": {
        "id": "MdhsHOgVLSxY"
      },
      "source": [
        "### **2. Cleaning the data**"
      ]
    },
    {
      "cell_type": "markdown",
      "metadata": {
        "id": "SupACwYISQ-p"
      },
      "source": [
        "**COVID Dataset**"
      ]
    },
    {
      "cell_type": "markdown",
      "metadata": {
        "id": "xZpMIipoLSxZ"
      },
      "source": [
        "**Extracting data for Singapore only**"
      ]
    },
    {
      "cell_type": "code",
      "metadata": {
        "scrolled": false,
        "id": "1AZpupWCLSxZ",
        "colab": {
          "base_uri": "https://localhost:8080/"
        },
        "outputId": "8ff0e10d-846e-4111-80f0-bbe9a0580a4f"
      },
      "source": [
        "covid_sg_daily = covid_daily[covid_daily[\"location\"] == \"Singapore\"]\n",
        "covid_sg_daily.head(2)"
      ],
      "execution_count": null,
      "outputs": [
        {
          "output_type": "execute_result",
          "data": {
            "text/html": [
              "<div>\n",
              "<style scoped>\n",
              "    .dataframe tbody tr th:only-of-type {\n",
              "        vertical-align: middle;\n",
              "    }\n",
              "\n",
              "    .dataframe tbody tr th {\n",
              "        vertical-align: top;\n",
              "    }\n",
              "\n",
              "    .dataframe thead th {\n",
              "        text-align: right;\n",
              "    }\n",
              "</style>\n",
              "<table border=\"1\" class=\"dataframe\">\n",
              "  <thead>\n",
              "    <tr style=\"text-align: right;\">\n",
              "      <th></th>\n",
              "      <th>iso_code</th>\n",
              "      <th>continent</th>\n",
              "      <th>location</th>\n",
              "      <th>date</th>\n",
              "      <th>total_cases</th>\n",
              "      <th>new_cases</th>\n",
              "      <th>new_cases_smoothed</th>\n",
              "      <th>total_deaths</th>\n",
              "      <th>new_deaths</th>\n",
              "      <th>new_deaths_smoothed</th>\n",
              "      <th>total_cases_per_million</th>\n",
              "      <th>new_cases_per_million</th>\n",
              "      <th>new_cases_smoothed_per_million</th>\n",
              "      <th>total_deaths_per_million</th>\n",
              "      <th>new_deaths_per_million</th>\n",
              "      <th>new_deaths_smoothed_per_million</th>\n",
              "      <th>reproduction_rate</th>\n",
              "      <th>icu_patients</th>\n",
              "      <th>icu_patients_per_million</th>\n",
              "      <th>hosp_patients</th>\n",
              "      <th>hosp_patients_per_million</th>\n",
              "      <th>weekly_icu_admissions</th>\n",
              "      <th>weekly_icu_admissions_per_million</th>\n",
              "      <th>weekly_hosp_admissions</th>\n",
              "      <th>weekly_hosp_admissions_per_million</th>\n",
              "      <th>new_tests</th>\n",
              "      <th>total_tests</th>\n",
              "      <th>total_tests_per_thousand</th>\n",
              "      <th>new_tests_per_thousand</th>\n",
              "      <th>new_tests_smoothed</th>\n",
              "      <th>new_tests_smoothed_per_thousand</th>\n",
              "      <th>positive_rate</th>\n",
              "      <th>tests_per_case</th>\n",
              "      <th>tests_units</th>\n",
              "      <th>total_vaccinations</th>\n",
              "      <th>people_vaccinated</th>\n",
              "      <th>people_fully_vaccinated</th>\n",
              "      <th>new_vaccinations</th>\n",
              "      <th>new_vaccinations_smoothed</th>\n",
              "      <th>total_vaccinations_per_hundred</th>\n",
              "      <th>people_vaccinated_per_hundred</th>\n",
              "      <th>people_fully_vaccinated_per_hundred</th>\n",
              "      <th>new_vaccinations_smoothed_per_million</th>\n",
              "      <th>stringency_index</th>\n",
              "      <th>population</th>\n",
              "      <th>population_density</th>\n",
              "      <th>median_age</th>\n",
              "      <th>aged_65_older</th>\n",
              "      <th>aged_70_older</th>\n",
              "      <th>gdp_per_capita</th>\n",
              "      <th>extreme_poverty</th>\n",
              "      <th>cardiovasc_death_rate</th>\n",
              "      <th>diabetes_prevalence</th>\n",
              "      <th>female_smokers</th>\n",
              "      <th>male_smokers</th>\n",
              "      <th>handwashing_facilities</th>\n",
              "      <th>hospital_beds_per_thousand</th>\n",
              "      <th>life_expectancy</th>\n",
              "      <th>human_development_index</th>\n",
              "    </tr>\n",
              "  </thead>\n",
              "  <tbody>\n",
              "    <tr>\n",
              "      <th>72064</th>\n",
              "      <td>SGP</td>\n",
              "      <td>Asia</td>\n",
              "      <td>Singapore</td>\n",
              "      <td>2020-01-23</td>\n",
              "      <td>1.0</td>\n",
              "      <td>1.0</td>\n",
              "      <td>NaN</td>\n",
              "      <td>NaN</td>\n",
              "      <td>NaN</td>\n",
              "      <td>NaN</td>\n",
              "      <td>0.171</td>\n",
              "      <td>0.171</td>\n",
              "      <td>NaN</td>\n",
              "      <td>NaN</td>\n",
              "      <td>NaN</td>\n",
              "      <td>NaN</td>\n",
              "      <td>NaN</td>\n",
              "      <td>NaN</td>\n",
              "      <td>NaN</td>\n",
              "      <td>NaN</td>\n",
              "      <td>NaN</td>\n",
              "      <td>NaN</td>\n",
              "      <td>NaN</td>\n",
              "      <td>NaN</td>\n",
              "      <td>NaN</td>\n",
              "      <td>NaN</td>\n",
              "      <td>NaN</td>\n",
              "      <td>NaN</td>\n",
              "      <td>NaN</td>\n",
              "      <td>NaN</td>\n",
              "      <td>NaN</td>\n",
              "      <td>NaN</td>\n",
              "      <td>NaN</td>\n",
              "      <td>NaN</td>\n",
              "      <td>NaN</td>\n",
              "      <td>NaN</td>\n",
              "      <td>NaN</td>\n",
              "      <td>NaN</td>\n",
              "      <td>NaN</td>\n",
              "      <td>NaN</td>\n",
              "      <td>NaN</td>\n",
              "      <td>NaN</td>\n",
              "      <td>NaN</td>\n",
              "      <td>25.0</td>\n",
              "      <td>5850343.0</td>\n",
              "      <td>7915.731</td>\n",
              "      <td>42.4</td>\n",
              "      <td>12.922</td>\n",
              "      <td>7.049</td>\n",
              "      <td>85535.383</td>\n",
              "      <td>NaN</td>\n",
              "      <td>92.243</td>\n",
              "      <td>10.99</td>\n",
              "      <td>5.2</td>\n",
              "      <td>28.3</td>\n",
              "      <td>NaN</td>\n",
              "      <td>2.4</td>\n",
              "      <td>83.62</td>\n",
              "      <td>0.938</td>\n",
              "    </tr>\n",
              "    <tr>\n",
              "      <th>72065</th>\n",
              "      <td>SGP</td>\n",
              "      <td>Asia</td>\n",
              "      <td>Singapore</td>\n",
              "      <td>2020-01-24</td>\n",
              "      <td>3.0</td>\n",
              "      <td>2.0</td>\n",
              "      <td>NaN</td>\n",
              "      <td>NaN</td>\n",
              "      <td>NaN</td>\n",
              "      <td>NaN</td>\n",
              "      <td>0.513</td>\n",
              "      <td>0.342</td>\n",
              "      <td>NaN</td>\n",
              "      <td>NaN</td>\n",
              "      <td>NaN</td>\n",
              "      <td>NaN</td>\n",
              "      <td>NaN</td>\n",
              "      <td>NaN</td>\n",
              "      <td>NaN</td>\n",
              "      <td>NaN</td>\n",
              "      <td>NaN</td>\n",
              "      <td>NaN</td>\n",
              "      <td>NaN</td>\n",
              "      <td>NaN</td>\n",
              "      <td>NaN</td>\n",
              "      <td>NaN</td>\n",
              "      <td>NaN</td>\n",
              "      <td>NaN</td>\n",
              "      <td>NaN</td>\n",
              "      <td>NaN</td>\n",
              "      <td>NaN</td>\n",
              "      <td>NaN</td>\n",
              "      <td>NaN</td>\n",
              "      <td>NaN</td>\n",
              "      <td>NaN</td>\n",
              "      <td>NaN</td>\n",
              "      <td>NaN</td>\n",
              "      <td>NaN</td>\n",
              "      <td>NaN</td>\n",
              "      <td>NaN</td>\n",
              "      <td>NaN</td>\n",
              "      <td>NaN</td>\n",
              "      <td>NaN</td>\n",
              "      <td>25.0</td>\n",
              "      <td>5850343.0</td>\n",
              "      <td>7915.731</td>\n",
              "      <td>42.4</td>\n",
              "      <td>12.922</td>\n",
              "      <td>7.049</td>\n",
              "      <td>85535.383</td>\n",
              "      <td>NaN</td>\n",
              "      <td>92.243</td>\n",
              "      <td>10.99</td>\n",
              "      <td>5.2</td>\n",
              "      <td>28.3</td>\n",
              "      <td>NaN</td>\n",
              "      <td>2.4</td>\n",
              "      <td>83.62</td>\n",
              "      <td>0.938</td>\n",
              "    </tr>\n",
              "  </tbody>\n",
              "</table>\n",
              "</div>"
            ],
            "text/plain": [
              "      iso_code continent  ... life_expectancy human_development_index\n",
              "72064      SGP      Asia  ...           83.62                   0.938\n",
              "72065      SGP      Asia  ...           83.62                   0.938\n",
              "\n",
              "[2 rows x 59 columns]"
            ]
          },
          "metadata": {
            "tags": []
          },
          "execution_count": 10
        }
      ]
    },
    {
      "cell_type": "markdown",
      "metadata": {
        "id": "q4D1_SHOLSxZ"
      },
      "source": [
        "**Extracting data for Year 2020**"
      ]
    },
    {
      "cell_type": "code",
      "metadata": {
        "scrolled": true,
        "id": "oGmIzKNoLSxZ",
        "colab": {
          "base_uri": "https://localhost:8080/"
        },
        "outputId": "9ebada25-ed96-49f7-9236-580c7465863a"
      },
      "source": [
        "covid_sg_daily_2020 = covid_sg_daily[covid_sg_daily[\"date\"].str.contains('2020')]\n",
        "covid_sg_daily_2020.head(2)"
      ],
      "execution_count": null,
      "outputs": [
        {
          "output_type": "execute_result",
          "data": {
            "text/html": [
              "<div>\n",
              "<style scoped>\n",
              "    .dataframe tbody tr th:only-of-type {\n",
              "        vertical-align: middle;\n",
              "    }\n",
              "\n",
              "    .dataframe tbody tr th {\n",
              "        vertical-align: top;\n",
              "    }\n",
              "\n",
              "    .dataframe thead th {\n",
              "        text-align: right;\n",
              "    }\n",
              "</style>\n",
              "<table border=\"1\" class=\"dataframe\">\n",
              "  <thead>\n",
              "    <tr style=\"text-align: right;\">\n",
              "      <th></th>\n",
              "      <th>iso_code</th>\n",
              "      <th>continent</th>\n",
              "      <th>location</th>\n",
              "      <th>date</th>\n",
              "      <th>total_cases</th>\n",
              "      <th>new_cases</th>\n",
              "      <th>new_cases_smoothed</th>\n",
              "      <th>total_deaths</th>\n",
              "      <th>new_deaths</th>\n",
              "      <th>new_deaths_smoothed</th>\n",
              "      <th>total_cases_per_million</th>\n",
              "      <th>new_cases_per_million</th>\n",
              "      <th>new_cases_smoothed_per_million</th>\n",
              "      <th>total_deaths_per_million</th>\n",
              "      <th>new_deaths_per_million</th>\n",
              "      <th>new_deaths_smoothed_per_million</th>\n",
              "      <th>reproduction_rate</th>\n",
              "      <th>icu_patients</th>\n",
              "      <th>icu_patients_per_million</th>\n",
              "      <th>hosp_patients</th>\n",
              "      <th>hosp_patients_per_million</th>\n",
              "      <th>weekly_icu_admissions</th>\n",
              "      <th>weekly_icu_admissions_per_million</th>\n",
              "      <th>weekly_hosp_admissions</th>\n",
              "      <th>weekly_hosp_admissions_per_million</th>\n",
              "      <th>new_tests</th>\n",
              "      <th>total_tests</th>\n",
              "      <th>total_tests_per_thousand</th>\n",
              "      <th>new_tests_per_thousand</th>\n",
              "      <th>new_tests_smoothed</th>\n",
              "      <th>new_tests_smoothed_per_thousand</th>\n",
              "      <th>positive_rate</th>\n",
              "      <th>tests_per_case</th>\n",
              "      <th>tests_units</th>\n",
              "      <th>total_vaccinations</th>\n",
              "      <th>people_vaccinated</th>\n",
              "      <th>people_fully_vaccinated</th>\n",
              "      <th>new_vaccinations</th>\n",
              "      <th>new_vaccinations_smoothed</th>\n",
              "      <th>total_vaccinations_per_hundred</th>\n",
              "      <th>people_vaccinated_per_hundred</th>\n",
              "      <th>people_fully_vaccinated_per_hundred</th>\n",
              "      <th>new_vaccinations_smoothed_per_million</th>\n",
              "      <th>stringency_index</th>\n",
              "      <th>population</th>\n",
              "      <th>population_density</th>\n",
              "      <th>median_age</th>\n",
              "      <th>aged_65_older</th>\n",
              "      <th>aged_70_older</th>\n",
              "      <th>gdp_per_capita</th>\n",
              "      <th>extreme_poverty</th>\n",
              "      <th>cardiovasc_death_rate</th>\n",
              "      <th>diabetes_prevalence</th>\n",
              "      <th>female_smokers</th>\n",
              "      <th>male_smokers</th>\n",
              "      <th>handwashing_facilities</th>\n",
              "      <th>hospital_beds_per_thousand</th>\n",
              "      <th>life_expectancy</th>\n",
              "      <th>human_development_index</th>\n",
              "    </tr>\n",
              "  </thead>\n",
              "  <tbody>\n",
              "    <tr>\n",
              "      <th>72064</th>\n",
              "      <td>SGP</td>\n",
              "      <td>Asia</td>\n",
              "      <td>Singapore</td>\n",
              "      <td>2020-01-23</td>\n",
              "      <td>1.0</td>\n",
              "      <td>1.0</td>\n",
              "      <td>NaN</td>\n",
              "      <td>NaN</td>\n",
              "      <td>NaN</td>\n",
              "      <td>NaN</td>\n",
              "      <td>0.171</td>\n",
              "      <td>0.171</td>\n",
              "      <td>NaN</td>\n",
              "      <td>NaN</td>\n",
              "      <td>NaN</td>\n",
              "      <td>NaN</td>\n",
              "      <td>NaN</td>\n",
              "      <td>NaN</td>\n",
              "      <td>NaN</td>\n",
              "      <td>NaN</td>\n",
              "      <td>NaN</td>\n",
              "      <td>NaN</td>\n",
              "      <td>NaN</td>\n",
              "      <td>NaN</td>\n",
              "      <td>NaN</td>\n",
              "      <td>NaN</td>\n",
              "      <td>NaN</td>\n",
              "      <td>NaN</td>\n",
              "      <td>NaN</td>\n",
              "      <td>NaN</td>\n",
              "      <td>NaN</td>\n",
              "      <td>NaN</td>\n",
              "      <td>NaN</td>\n",
              "      <td>NaN</td>\n",
              "      <td>NaN</td>\n",
              "      <td>NaN</td>\n",
              "      <td>NaN</td>\n",
              "      <td>NaN</td>\n",
              "      <td>NaN</td>\n",
              "      <td>NaN</td>\n",
              "      <td>NaN</td>\n",
              "      <td>NaN</td>\n",
              "      <td>NaN</td>\n",
              "      <td>25.0</td>\n",
              "      <td>5850343.0</td>\n",
              "      <td>7915.731</td>\n",
              "      <td>42.4</td>\n",
              "      <td>12.922</td>\n",
              "      <td>7.049</td>\n",
              "      <td>85535.383</td>\n",
              "      <td>NaN</td>\n",
              "      <td>92.243</td>\n",
              "      <td>10.99</td>\n",
              "      <td>5.2</td>\n",
              "      <td>28.3</td>\n",
              "      <td>NaN</td>\n",
              "      <td>2.4</td>\n",
              "      <td>83.62</td>\n",
              "      <td>0.938</td>\n",
              "    </tr>\n",
              "    <tr>\n",
              "      <th>72065</th>\n",
              "      <td>SGP</td>\n",
              "      <td>Asia</td>\n",
              "      <td>Singapore</td>\n",
              "      <td>2020-01-24</td>\n",
              "      <td>3.0</td>\n",
              "      <td>2.0</td>\n",
              "      <td>NaN</td>\n",
              "      <td>NaN</td>\n",
              "      <td>NaN</td>\n",
              "      <td>NaN</td>\n",
              "      <td>0.513</td>\n",
              "      <td>0.342</td>\n",
              "      <td>NaN</td>\n",
              "      <td>NaN</td>\n",
              "      <td>NaN</td>\n",
              "      <td>NaN</td>\n",
              "      <td>NaN</td>\n",
              "      <td>NaN</td>\n",
              "      <td>NaN</td>\n",
              "      <td>NaN</td>\n",
              "      <td>NaN</td>\n",
              "      <td>NaN</td>\n",
              "      <td>NaN</td>\n",
              "      <td>NaN</td>\n",
              "      <td>NaN</td>\n",
              "      <td>NaN</td>\n",
              "      <td>NaN</td>\n",
              "      <td>NaN</td>\n",
              "      <td>NaN</td>\n",
              "      <td>NaN</td>\n",
              "      <td>NaN</td>\n",
              "      <td>NaN</td>\n",
              "      <td>NaN</td>\n",
              "      <td>NaN</td>\n",
              "      <td>NaN</td>\n",
              "      <td>NaN</td>\n",
              "      <td>NaN</td>\n",
              "      <td>NaN</td>\n",
              "      <td>NaN</td>\n",
              "      <td>NaN</td>\n",
              "      <td>NaN</td>\n",
              "      <td>NaN</td>\n",
              "      <td>NaN</td>\n",
              "      <td>25.0</td>\n",
              "      <td>5850343.0</td>\n",
              "      <td>7915.731</td>\n",
              "      <td>42.4</td>\n",
              "      <td>12.922</td>\n",
              "      <td>7.049</td>\n",
              "      <td>85535.383</td>\n",
              "      <td>NaN</td>\n",
              "      <td>92.243</td>\n",
              "      <td>10.99</td>\n",
              "      <td>5.2</td>\n",
              "      <td>28.3</td>\n",
              "      <td>NaN</td>\n",
              "      <td>2.4</td>\n",
              "      <td>83.62</td>\n",
              "      <td>0.938</td>\n",
              "    </tr>\n",
              "  </tbody>\n",
              "</table>\n",
              "</div>"
            ],
            "text/plain": [
              "      iso_code continent  ... life_expectancy human_development_index\n",
              "72064      SGP      Asia  ...           83.62                   0.938\n",
              "72065      SGP      Asia  ...           83.62                   0.938\n",
              "\n",
              "[2 rows x 59 columns]"
            ]
          },
          "metadata": {
            "tags": []
          },
          "execution_count": 11
        }
      ]
    },
    {
      "cell_type": "markdown",
      "metadata": {
        "id": "q-aa3UENLSxa"
      },
      "source": [
        "**Extracting data for relevant columns**"
      ]
    },
    {
      "cell_type": "code",
      "metadata": {
        "scrolled": false,
        "colab": {
          "base_uri": "https://localhost:8080/"
        },
        "id": "49p69q1dLSxa",
        "outputId": "cca57b94-c5c7-4dc8-fe8d-b706519e98cd"
      },
      "source": [
        "covid_sg_daily_2020 = covid_sg_daily_2020.loc[:][['date', 'new_cases']]\n",
        "covid_sg_daily_2020.head(2)"
      ],
      "execution_count": null,
      "outputs": [
        {
          "output_type": "execute_result",
          "data": {
            "text/html": [
              "<div>\n",
              "<style scoped>\n",
              "    .dataframe tbody tr th:only-of-type {\n",
              "        vertical-align: middle;\n",
              "    }\n",
              "\n",
              "    .dataframe tbody tr th {\n",
              "        vertical-align: top;\n",
              "    }\n",
              "\n",
              "    .dataframe thead th {\n",
              "        text-align: right;\n",
              "    }\n",
              "</style>\n",
              "<table border=\"1\" class=\"dataframe\">\n",
              "  <thead>\n",
              "    <tr style=\"text-align: right;\">\n",
              "      <th></th>\n",
              "      <th>date</th>\n",
              "      <th>new_cases</th>\n",
              "    </tr>\n",
              "  </thead>\n",
              "  <tbody>\n",
              "    <tr>\n",
              "      <th>72064</th>\n",
              "      <td>2020-01-23</td>\n",
              "      <td>1.0</td>\n",
              "    </tr>\n",
              "    <tr>\n",
              "      <th>72065</th>\n",
              "      <td>2020-01-24</td>\n",
              "      <td>2.0</td>\n",
              "    </tr>\n",
              "  </tbody>\n",
              "</table>\n",
              "</div>"
            ],
            "text/plain": [
              "             date  new_cases\n",
              "72064  2020-01-23        1.0\n",
              "72065  2020-01-24        2.0"
            ]
          },
          "metadata": {
            "tags": []
          },
          "execution_count": 12
        }
      ]
    },
    {
      "cell_type": "code",
      "metadata": {
        "scrolled": true,
        "colab": {
          "base_uri": "https://localhost:8080/"
        },
        "id": "8mvkuqKYLSxa",
        "outputId": "d4e5d3c0-e05e-456a-b16f-a8b704d7eb7c"
      },
      "source": [
        "# Checking for null values\n",
        "covid_sg_daily_2020.isnull().sum()"
      ],
      "execution_count": null,
      "outputs": [
        {
          "output_type": "execute_result",
          "data": {
            "text/plain": [
              "date         0\n",
              "new_cases    0\n",
              "dtype: int64"
            ]
          },
          "metadata": {
            "tags": []
          },
          "execution_count": 13
        }
      ]
    },
    {
      "cell_type": "markdown",
      "metadata": {
        "id": "81TBOm_RLSxa"
      },
      "source": [
        "**Finding average of new cases per month**"
      ]
    },
    {
      "cell_type": "code",
      "metadata": {
        "scrolled": true,
        "colab": {
          "base_uri": "https://localhost:8080/"
        },
        "id": "iyVIn4koLSxb",
        "outputId": "dc92e784-bf06-48c7-ac85-d4bd5c9a7408"
      },
      "source": [
        "import datetime as dt\n",
        "\n",
        "# Creating an empty dictionary for month as key and mean new cases as value.\n",
        "covid_sg_monthly_2020_dict = {}\n",
        "\n",
        "    \n",
        "# Creating a for loop to calculate the mean new cases for each month.\n",
        "for i in range(0,9):\n",
        "    dt_string = \"{}-0{}\".format(2020, i+1)\n",
        "    month_df = covid_sg_daily_2020[covid_sg_daily_2020['date'].str.contains(dt_string)]\n",
        "    new_cases_mean = month_df['new_cases'].mean()\n",
        "    dt_object = dt.datetime(2020, i+1, 1)\n",
        "    dt_month = dt_object.strftime(\"%Y-%m\")\n",
        "    \n",
        "    if dt_month not in covid_sg_monthly_2020_dict:\n",
        "        covid_sg_monthly_2020_dict[dt_month] = new_cases_mean\n",
        "        \n",
        "for i in range(9,12):\n",
        "    dt_string = \"{}-{}\".format(2020, i+1)\n",
        "    month_df = covid_sg_daily_2020[covid_sg_daily_2020['date'].str.contains(dt_string)]\n",
        "    new_cases_mean = month_df['new_cases'].mean()\n",
        "    dt_object = dt.datetime(2020, i+1, 1)\n",
        "    dt_month = dt_object.strftime(\"%Y-%m\")\n",
        "    \n",
        "    if dt_month not in covid_sg_monthly_2020_dict:\n",
        "        covid_sg_monthly_2020_dict[dt_month] = new_cases_mean\n",
        "\n",
        "# Converting dictionary to DataFrame and renaming columns.\n",
        "covid_sg_monthly_2020 = pd.DataFrame.from_dict(covid_sg_monthly_2020_dict, orient='index', columns=[\"mean_new_covid_cases\"])\n",
        "covid_sg_monthly_2020['month'] = covid_sg_monthly_2020.index\n",
        "covid_sg_monthly_2020 = covid_sg_monthly_2020[['month', 'mean_new_covid_cases']]\n",
        "\n",
        "# Resetting the index and renaming dataframe\n",
        "covid_clean = covid_sg_monthly_2020.reset_index(drop=True)\n",
        "\n",
        "covid_clean"
      ],
      "execution_count": null,
      "outputs": [
        {
          "output_type": "execute_result",
          "data": {
            "text/html": [
              "<div>\n",
              "<style scoped>\n",
              "    .dataframe tbody tr th:only-of-type {\n",
              "        vertical-align: middle;\n",
              "    }\n",
              "\n",
              "    .dataframe tbody tr th {\n",
              "        vertical-align: top;\n",
              "    }\n",
              "\n",
              "    .dataframe thead th {\n",
              "        text-align: right;\n",
              "    }\n",
              "</style>\n",
              "<table border=\"1\" class=\"dataframe\">\n",
              "  <thead>\n",
              "    <tr style=\"text-align: right;\">\n",
              "      <th></th>\n",
              "      <th>month</th>\n",
              "      <th>mean_new_covid_cases</th>\n",
              "    </tr>\n",
              "  </thead>\n",
              "  <tbody>\n",
              "    <tr>\n",
              "      <th>0</th>\n",
              "      <td>2020-01</td>\n",
              "      <td>1.444444</td>\n",
              "    </tr>\n",
              "    <tr>\n",
              "      <th>1</th>\n",
              "      <td>2020-02</td>\n",
              "      <td>3.068966</td>\n",
              "    </tr>\n",
              "    <tr>\n",
              "      <th>2</th>\n",
              "      <td>2020-03</td>\n",
              "      <td>26.580645</td>\n",
              "    </tr>\n",
              "    <tr>\n",
              "      <th>3</th>\n",
              "      <td>2020-04</td>\n",
              "      <td>508.100000</td>\n",
              "    </tr>\n",
              "    <tr>\n",
              "      <th>4</th>\n",
              "      <td>2020-05</td>\n",
              "      <td>603.709677</td>\n",
              "    </tr>\n",
              "    <tr>\n",
              "      <th>5</th>\n",
              "      <td>2020-06</td>\n",
              "      <td>300.766667</td>\n",
              "    </tr>\n",
              "    <tr>\n",
              "      <th>6</th>\n",
              "      <td>2020-07</td>\n",
              "      <td>267.677419</td>\n",
              "    </tr>\n",
              "    <tr>\n",
              "      <th>7</th>\n",
              "      <td>2020-08</td>\n",
              "      <td>148.612903</td>\n",
              "    </tr>\n",
              "    <tr>\n",
              "      <th>8</th>\n",
              "      <td>2020-09</td>\n",
              "      <td>31.766667</td>\n",
              "    </tr>\n",
              "    <tr>\n",
              "      <th>9</th>\n",
              "      <td>2020-10</td>\n",
              "      <td>8.064516</td>\n",
              "    </tr>\n",
              "    <tr>\n",
              "      <th>10</th>\n",
              "      <td>2020-11</td>\n",
              "      <td>6.766667</td>\n",
              "    </tr>\n",
              "    <tr>\n",
              "      <th>11</th>\n",
              "      <td>2020-12</td>\n",
              "      <td>12.290323</td>\n",
              "    </tr>\n",
              "  </tbody>\n",
              "</table>\n",
              "</div>"
            ],
            "text/plain": [
              "      month  mean_new_covid_cases\n",
              "0   2020-01              1.444444\n",
              "1   2020-02              3.068966\n",
              "2   2020-03             26.580645\n",
              "3   2020-04            508.100000\n",
              "4   2020-05            603.709677\n",
              "5   2020-06            300.766667\n",
              "6   2020-07            267.677419\n",
              "7   2020-08            148.612903\n",
              "8   2020-09             31.766667\n",
              "9   2020-10              8.064516\n",
              "10  2020-11              6.766667\n",
              "11  2020-12             12.290323"
            ]
          },
          "metadata": {
            "tags": []
          },
          "execution_count": 14
        }
      ]
    },
    {
      "cell_type": "markdown",
      "metadata": {
        "id": "isKoLuGgLSxb"
      },
      "source": [
        "**Electricity Consumption Dataset**"
      ]
    },
    {
      "cell_type": "code",
      "metadata": {
        "colab": {
          "base_uri": "https://localhost:8080/"
        },
        "id": "kbal45AqLSxc",
        "outputId": "ee2720a7-7f5a-440d-ed2c-889b49e1c319"
      },
      "source": [
        "# Checking for null values\n",
        "electricity_monthly.info()"
      ],
      "execution_count": null,
      "outputs": [
        {
          "output_type": "stream",
          "text": [
            "<class 'pandas.core.frame.DataFrame'>\n",
            "RangeIndex: 7 entries, 0 to 6\n",
            "Data columns (total 14 columns):\n",
            " #   Column                  Non-Null Count  Dtype  \n",
            "---  ------                  --------------  -----  \n",
            " 0   landed_properties       7 non-null      object \n",
            " 1   _full_count             7 non-null      object \n",
            " 2   private_housing         7 non-null      object \n",
            " 3   4-room                  7 non-null      object \n",
            " 4   3-room                  7 non-null      object \n",
            " 5   overall                 7 non-null      object \n",
            " 6   rank                    7 non-null      float64\n",
            " 7   month                   7 non-null      object \n",
            " 8   public_housing          7 non-null      object \n",
            " 9   5-room_and_executive    7 non-null      object \n",
            " 10  others                  7 non-null      object \n",
            " 11  _id                     7 non-null      int64  \n",
            " 12  1-room_2-room           7 non-null      object \n",
            " 13  private_apts_and_condo  7 non-null      object \n",
            "dtypes: float64(1), int64(1), object(12)\n",
            "memory usage: 912.0+ bytes\n"
          ],
          "name": "stdout"
        }
      ]
    },
    {
      "cell_type": "markdown",
      "metadata": {
        "id": "pWYjqTvbLSxc"
      },
      "source": [
        "Dataset has no null values."
      ]
    },
    {
      "cell_type": "code",
      "metadata": {
        "colab": {
          "base_uri": "https://localhost:8080/"
        },
        "id": "IrSVQFxILSxc",
        "outputId": "5e420c75-57dc-4140-8faa-1c4efdcb5e8e"
      },
      "source": [
        "# Extracting data for Year 2020\n",
        "electricity_monthly_2020 = electricity_monthly[electricity_monthly['month'].str.contains('2020')]\n",
        "\n",
        "# Removing categorical columns and rearranging columns\n",
        "electricity_monthly_2020.drop([\"_id\",'_full_count','rank'], axis=1, inplace=True)\n",
        "electricity_monthly_2020 = electricity_monthly_2020[['month','overall','public_housing','private_housing','1-room_2-room','3-room','4-room','5-room_and_executive','private_apts_and_condo','landed_properties']]\n",
        "\n",
        "\n",
        "# Resetting the index and renaming the dataframe\n",
        "electricity_clean = electricity_monthly_2020.reset_index(drop=True)\n",
        "\n",
        "electricity_clean"
      ],
      "execution_count": null,
      "outputs": [
        {
          "output_type": "execute_result",
          "data": {
            "text/html": [
              "<div>\n",
              "<style scoped>\n",
              "    .dataframe tbody tr th:only-of-type {\n",
              "        vertical-align: middle;\n",
              "    }\n",
              "\n",
              "    .dataframe tbody tr th {\n",
              "        vertical-align: top;\n",
              "    }\n",
              "\n",
              "    .dataframe thead th {\n",
              "        text-align: right;\n",
              "    }\n",
              "</style>\n",
              "<table border=\"1\" class=\"dataframe\">\n",
              "  <thead>\n",
              "    <tr style=\"text-align: right;\">\n",
              "      <th></th>\n",
              "      <th>month</th>\n",
              "      <th>overall</th>\n",
              "      <th>public_housing</th>\n",
              "      <th>private_housing</th>\n",
              "      <th>1-room_2-room</th>\n",
              "      <th>3-room</th>\n",
              "      <th>4-room</th>\n",
              "      <th>5-room_and_executive</th>\n",
              "      <th>private_apts_and_condo</th>\n",
              "      <th>landed_properties</th>\n",
              "    </tr>\n",
              "  </thead>\n",
              "  <tbody>\n",
              "    <tr>\n",
              "      <th>0</th>\n",
              "      <td>2020-01</td>\n",
              "      <td>384.3</td>\n",
              "      <td>310.5</td>\n",
              "      <td>572.1</td>\n",
              "      <td>146.4</td>\n",
              "      <td>239.6</td>\n",
              "      <td>324.5</td>\n",
              "      <td>388.7</td>\n",
              "      <td>459.5</td>\n",
              "      <td>1072.4</td>\n",
              "    </tr>\n",
              "    <tr>\n",
              "      <th>1</th>\n",
              "      <td>2020-02</td>\n",
              "      <td>406.7</td>\n",
              "      <td>327.7</td>\n",
              "      <td>607.7</td>\n",
              "      <td>151</td>\n",
              "      <td>252.5</td>\n",
              "      <td>341.1</td>\n",
              "      <td>413.5</td>\n",
              "      <td>484.3</td>\n",
              "      <td>1157.9</td>\n",
              "    </tr>\n",
              "    <tr>\n",
              "      <th>2</th>\n",
              "      <td>2020-03</td>\n",
              "      <td>420.9</td>\n",
              "      <td>334.7</td>\n",
              "      <td>640.6</td>\n",
              "      <td>150.7</td>\n",
              "      <td>255.8</td>\n",
              "      <td>348.6</td>\n",
              "      <td>425.6</td>\n",
              "      <td>518.4</td>\n",
              "      <td>1184.7</td>\n",
              "    </tr>\n",
              "    <tr>\n",
              "      <th>3</th>\n",
              "      <td>2020-04</td>\n",
              "      <td>453.3</td>\n",
              "      <td>360.9</td>\n",
              "      <td>689</td>\n",
              "      <td>160.3</td>\n",
              "      <td>275.2</td>\n",
              "      <td>377.3</td>\n",
              "      <td>458.7</td>\n",
              "      <td>554.2</td>\n",
              "      <td>1290.7</td>\n",
              "    </tr>\n",
              "    <tr>\n",
              "      <th>4</th>\n",
              "      <td>2020-05</td>\n",
              "      <td>450.9</td>\n",
              "      <td>360.7</td>\n",
              "      <td>681.7</td>\n",
              "      <td>165.9</td>\n",
              "      <td>278.7</td>\n",
              "      <td>377.7</td>\n",
              "      <td>453.5</td>\n",
              "      <td>547.4</td>\n",
              "      <td>1277.9</td>\n",
              "    </tr>\n",
              "    <tr>\n",
              "      <th>5</th>\n",
              "      <td>2020-06</td>\n",
              "      <td>591</td>\n",
              "      <td>473.6</td>\n",
              "      <td>891.9</td>\n",
              "      <td>207.6</td>\n",
              "      <td>359.3</td>\n",
              "      <td>493.3</td>\n",
              "      <td>607.3</td>\n",
              "      <td>754.2</td>\n",
              "      <td>1503</td>\n",
              "    </tr>\n",
              "    <tr>\n",
              "      <th>6</th>\n",
              "      <td>2020-07</td>\n",
              "      <td>601.1</td>\n",
              "      <td>486</td>\n",
              "      <td>894.9</td>\n",
              "      <td>215.5</td>\n",
              "      <td>360.3</td>\n",
              "      <td>507</td>\n",
              "      <td>628.6</td>\n",
              "      <td>767.1</td>\n",
              "      <td>1466.1</td>\n",
              "    </tr>\n",
              "  </tbody>\n",
              "</table>\n",
              "</div>"
            ],
            "text/plain": [
              "     month overall  ... private_apts_and_condo landed_properties\n",
              "0  2020-01   384.3  ...                  459.5            1072.4\n",
              "1  2020-02   406.7  ...                  484.3            1157.9\n",
              "2  2020-03   420.9  ...                  518.4            1184.7\n",
              "3  2020-04   453.3  ...                  554.2            1290.7\n",
              "4  2020-05   450.9  ...                  547.4            1277.9\n",
              "5  2020-06     591  ...                  754.2              1503\n",
              "6  2020-07   601.1  ...                  767.1            1466.1\n",
              "\n",
              "[7 rows x 10 columns]"
            ]
          },
          "metadata": {
            "tags": []
          },
          "execution_count": 16
        }
      ]
    },
    {
      "cell_type": "markdown",
      "metadata": {
        "id": "XGUp95UZSIYc"
      },
      "source": [
        "**Surface Air Temperature Dataset**"
      ]
    },
    {
      "cell_type": "code",
      "metadata": {
        "colab": {
          "base_uri": "https://localhost:8080/"
        },
        "id": "OWjQfn6xSGKi",
        "outputId": "708069ff-7b09-4eb8-cbe9-7d4f4f29e4bd"
      },
      "source": [
        "# Extracting data for Year 2020\n",
        "temperature_monthly_2020 = temperature_monthly[temperature_monthly['month'].str.contains('2020')]\n",
        "\n",
        "# Resetting the index and renaming the dataframe\n",
        "temperature_clean = temperature_monthly_2020[[\"month\",\"mean_temp\"]].reset_index(drop=True)\n",
        "\n",
        "temperature_clean"
      ],
      "execution_count": null,
      "outputs": [
        {
          "output_type": "execute_result",
          "data": {
            "text/html": [
              "<div>\n",
              "<style scoped>\n",
              "    .dataframe tbody tr th:only-of-type {\n",
              "        vertical-align: middle;\n",
              "    }\n",
              "\n",
              "    .dataframe tbody tr th {\n",
              "        vertical-align: top;\n",
              "    }\n",
              "\n",
              "    .dataframe thead th {\n",
              "        text-align: right;\n",
              "    }\n",
              "</style>\n",
              "<table border=\"1\" class=\"dataframe\">\n",
              "  <thead>\n",
              "    <tr style=\"text-align: right;\">\n",
              "      <th></th>\n",
              "      <th>month</th>\n",
              "      <th>mean_temp</th>\n",
              "    </tr>\n",
              "  </thead>\n",
              "  <tbody>\n",
              "    <tr>\n",
              "      <th>0</th>\n",
              "      <td>2020-01</td>\n",
              "      <td>27.7</td>\n",
              "    </tr>\n",
              "    <tr>\n",
              "      <th>1</th>\n",
              "      <td>2020-02</td>\n",
              "      <td>27.9</td>\n",
              "    </tr>\n",
              "    <tr>\n",
              "      <th>2</th>\n",
              "      <td>2020-03</td>\n",
              "      <td>28.6</td>\n",
              "    </tr>\n",
              "    <tr>\n",
              "      <th>3</th>\n",
              "      <td>2020-04</td>\n",
              "      <td>28.9</td>\n",
              "    </tr>\n",
              "    <tr>\n",
              "      <th>4</th>\n",
              "      <td>2020-05</td>\n",
              "      <td>28.9</td>\n",
              "    </tr>\n",
              "    <tr>\n",
              "      <th>5</th>\n",
              "      <td>2020-06</td>\n",
              "      <td>28.1</td>\n",
              "    </tr>\n",
              "    <tr>\n",
              "      <th>6</th>\n",
              "      <td>2020-07</td>\n",
              "      <td>27.9</td>\n",
              "    </tr>\n",
              "    <tr>\n",
              "      <th>7</th>\n",
              "      <td>2020-08</td>\n",
              "      <td>28.3</td>\n",
              "    </tr>\n",
              "    <tr>\n",
              "      <th>8</th>\n",
              "      <td>2020-09</td>\n",
              "      <td>27.5</td>\n",
              "    </tr>\n",
              "    <tr>\n",
              "      <th>9</th>\n",
              "      <td>2020-10</td>\n",
              "      <td>28.3</td>\n",
              "    </tr>\n",
              "    <tr>\n",
              "      <th>10</th>\n",
              "      <td>2020-11</td>\n",
              "      <td>27.2</td>\n",
              "    </tr>\n",
              "    <tr>\n",
              "      <th>11</th>\n",
              "      <td>2020-12</td>\n",
              "      <td>27.2</td>\n",
              "    </tr>\n",
              "  </tbody>\n",
              "</table>\n",
              "</div>"
            ],
            "text/plain": [
              "      month mean_temp\n",
              "0   2020-01      27.7\n",
              "1   2020-02      27.9\n",
              "2   2020-03      28.6\n",
              "3   2020-04      28.9\n",
              "4   2020-05      28.9\n",
              "5   2020-06      28.1\n",
              "6   2020-07      27.9\n",
              "7   2020-08      28.3\n",
              "8   2020-09      27.5\n",
              "9   2020-10      28.3\n",
              "10  2020-11      27.2\n",
              "11  2020-12      27.2"
            ]
          },
          "metadata": {
            "tags": []
          },
          "execution_count": 17
        }
      ]
    },
    {
      "cell_type": "markdown",
      "metadata": {
        "id": "diAwsMNvSG4N"
      },
      "source": [
        "**Relative Humidity Dataset**"
      ]
    },
    {
      "cell_type": "code",
      "metadata": {
        "colab": {
          "base_uri": "https://localhost:8080/"
        },
        "id": "lW56RbN_SHKo",
        "outputId": "adb61f79-294e-4f6f-a450-47aabf9f0404"
      },
      "source": [
        "# Extracting data for Year 2020\n",
        "humidity_monthly_2020 = humidity_monthly[humidity_monthly['month'].str.contains('2020')]\n",
        "\n",
        "# Resetting the index and renaming the dataframe\n",
        "humidity_clean = humidity_monthly_2020[['month','mean_rh']].reset_index(drop=True)\n",
        "\n",
        "humidity_clean"
      ],
      "execution_count": null,
      "outputs": [
        {
          "output_type": "execute_result",
          "data": {
            "text/html": [
              "<div>\n",
              "<style scoped>\n",
              "    .dataframe tbody tr th:only-of-type {\n",
              "        vertical-align: middle;\n",
              "    }\n",
              "\n",
              "    .dataframe tbody tr th {\n",
              "        vertical-align: top;\n",
              "    }\n",
              "\n",
              "    .dataframe thead th {\n",
              "        text-align: right;\n",
              "    }\n",
              "</style>\n",
              "<table border=\"1\" class=\"dataframe\">\n",
              "  <thead>\n",
              "    <tr style=\"text-align: right;\">\n",
              "      <th></th>\n",
              "      <th>month</th>\n",
              "      <th>mean_rh</th>\n",
              "    </tr>\n",
              "  </thead>\n",
              "  <tbody>\n",
              "    <tr>\n",
              "      <th>0</th>\n",
              "      <td>2020-01</td>\n",
              "      <td>77.9</td>\n",
              "    </tr>\n",
              "    <tr>\n",
              "      <th>1</th>\n",
              "      <td>2020-02</td>\n",
              "      <td>76</td>\n",
              "    </tr>\n",
              "    <tr>\n",
              "      <th>2</th>\n",
              "      <td>2020-03</td>\n",
              "      <td>75.2</td>\n",
              "    </tr>\n",
              "    <tr>\n",
              "      <th>3</th>\n",
              "      <td>2020-04</td>\n",
              "      <td>76.4</td>\n",
              "    </tr>\n",
              "    <tr>\n",
              "      <th>4</th>\n",
              "      <td>2020-05</td>\n",
              "      <td>79.1</td>\n",
              "    </tr>\n",
              "    <tr>\n",
              "      <th>5</th>\n",
              "      <td>2020-06</td>\n",
              "      <td>80.2</td>\n",
              "    </tr>\n",
              "    <tr>\n",
              "      <th>6</th>\n",
              "      <td>2020-07</td>\n",
              "      <td>78.2</td>\n",
              "    </tr>\n",
              "    <tr>\n",
              "      <th>7</th>\n",
              "      <td>2020-08</td>\n",
              "      <td>76.8</td>\n",
              "    </tr>\n",
              "    <tr>\n",
              "      <th>8</th>\n",
              "      <td>2020-09</td>\n",
              "      <td>79</td>\n",
              "    </tr>\n",
              "    <tr>\n",
              "      <th>9</th>\n",
              "      <td>2020-10</td>\n",
              "      <td>75.4</td>\n",
              "    </tr>\n",
              "    <tr>\n",
              "      <th>10</th>\n",
              "      <td>2020-11</td>\n",
              "      <td>81.7</td>\n",
              "    </tr>\n",
              "    <tr>\n",
              "      <th>11</th>\n",
              "      <td>2020-12</td>\n",
              "      <td>81.1</td>\n",
              "    </tr>\n",
              "  </tbody>\n",
              "</table>\n",
              "</div>"
            ],
            "text/plain": [
              "      month mean_rh\n",
              "0   2020-01    77.9\n",
              "1   2020-02      76\n",
              "2   2020-03    75.2\n",
              "3   2020-04    76.4\n",
              "4   2020-05    79.1\n",
              "5   2020-06    80.2\n",
              "6   2020-07    78.2\n",
              "7   2020-08    76.8\n",
              "8   2020-09      79\n",
              "9   2020-10    75.4\n",
              "10  2020-11    81.7\n",
              "11  2020-12    81.1"
            ]
          },
          "metadata": {
            "tags": []
          },
          "execution_count": 18
        }
      ]
    },
    {
      "cell_type": "markdown",
      "metadata": {
        "id": "OnZDr8QyLSxc"
      },
      "source": [
        "### **3. Merging data**\n",
        "\n",
        "Let's combine the dataset of Covid and Electricity using the month as key"
      ]
    },
    {
      "cell_type": "code",
      "metadata": {
        "scrolled": true,
        "colab": {
          "base_uri": "https://localhost:8080/"
        },
        "id": "mRNw9OMLLSxd",
        "outputId": "f2fcafd4-54bf-42c7-e81c-5271317f8eac"
      },
      "source": [
        "clean_data = electricity_clean.merge(covid_clean, on=\"month\")\n",
        "clean_data = clean_data.merge(temperature_clean, on=\"month\")\n",
        "clean_data = clean_data.merge(humidity_clean, on=\"month\")\n",
        "\n",
        "clean_data"
      ],
      "execution_count": null,
      "outputs": [
        {
          "output_type": "execute_result",
          "data": {
            "text/html": [
              "<div>\n",
              "<style scoped>\n",
              "    .dataframe tbody tr th:only-of-type {\n",
              "        vertical-align: middle;\n",
              "    }\n",
              "\n",
              "    .dataframe tbody tr th {\n",
              "        vertical-align: top;\n",
              "    }\n",
              "\n",
              "    .dataframe thead th {\n",
              "        text-align: right;\n",
              "    }\n",
              "</style>\n",
              "<table border=\"1\" class=\"dataframe\">\n",
              "  <thead>\n",
              "    <tr style=\"text-align: right;\">\n",
              "      <th></th>\n",
              "      <th>month</th>\n",
              "      <th>overall</th>\n",
              "      <th>public_housing</th>\n",
              "      <th>private_housing</th>\n",
              "      <th>1-room_2-room</th>\n",
              "      <th>3-room</th>\n",
              "      <th>4-room</th>\n",
              "      <th>5-room_and_executive</th>\n",
              "      <th>private_apts_and_condo</th>\n",
              "      <th>landed_properties</th>\n",
              "      <th>mean_new_covid_cases</th>\n",
              "      <th>mean_temp</th>\n",
              "      <th>mean_rh</th>\n",
              "    </tr>\n",
              "  </thead>\n",
              "  <tbody>\n",
              "    <tr>\n",
              "      <th>0</th>\n",
              "      <td>2020-01</td>\n",
              "      <td>384.3</td>\n",
              "      <td>310.5</td>\n",
              "      <td>572.1</td>\n",
              "      <td>146.4</td>\n",
              "      <td>239.6</td>\n",
              "      <td>324.5</td>\n",
              "      <td>388.7</td>\n",
              "      <td>459.5</td>\n",
              "      <td>1072.4</td>\n",
              "      <td>1.444444</td>\n",
              "      <td>27.7</td>\n",
              "      <td>77.9</td>\n",
              "    </tr>\n",
              "    <tr>\n",
              "      <th>1</th>\n",
              "      <td>2020-02</td>\n",
              "      <td>406.7</td>\n",
              "      <td>327.7</td>\n",
              "      <td>607.7</td>\n",
              "      <td>151</td>\n",
              "      <td>252.5</td>\n",
              "      <td>341.1</td>\n",
              "      <td>413.5</td>\n",
              "      <td>484.3</td>\n",
              "      <td>1157.9</td>\n",
              "      <td>3.068966</td>\n",
              "      <td>27.9</td>\n",
              "      <td>76</td>\n",
              "    </tr>\n",
              "    <tr>\n",
              "      <th>2</th>\n",
              "      <td>2020-03</td>\n",
              "      <td>420.9</td>\n",
              "      <td>334.7</td>\n",
              "      <td>640.6</td>\n",
              "      <td>150.7</td>\n",
              "      <td>255.8</td>\n",
              "      <td>348.6</td>\n",
              "      <td>425.6</td>\n",
              "      <td>518.4</td>\n",
              "      <td>1184.7</td>\n",
              "      <td>26.580645</td>\n",
              "      <td>28.6</td>\n",
              "      <td>75.2</td>\n",
              "    </tr>\n",
              "    <tr>\n",
              "      <th>3</th>\n",
              "      <td>2020-04</td>\n",
              "      <td>453.3</td>\n",
              "      <td>360.9</td>\n",
              "      <td>689</td>\n",
              "      <td>160.3</td>\n",
              "      <td>275.2</td>\n",
              "      <td>377.3</td>\n",
              "      <td>458.7</td>\n",
              "      <td>554.2</td>\n",
              "      <td>1290.7</td>\n",
              "      <td>508.100000</td>\n",
              "      <td>28.9</td>\n",
              "      <td>76.4</td>\n",
              "    </tr>\n",
              "    <tr>\n",
              "      <th>4</th>\n",
              "      <td>2020-05</td>\n",
              "      <td>450.9</td>\n",
              "      <td>360.7</td>\n",
              "      <td>681.7</td>\n",
              "      <td>165.9</td>\n",
              "      <td>278.7</td>\n",
              "      <td>377.7</td>\n",
              "      <td>453.5</td>\n",
              "      <td>547.4</td>\n",
              "      <td>1277.9</td>\n",
              "      <td>603.709677</td>\n",
              "      <td>28.9</td>\n",
              "      <td>79.1</td>\n",
              "    </tr>\n",
              "    <tr>\n",
              "      <th>5</th>\n",
              "      <td>2020-06</td>\n",
              "      <td>591</td>\n",
              "      <td>473.6</td>\n",
              "      <td>891.9</td>\n",
              "      <td>207.6</td>\n",
              "      <td>359.3</td>\n",
              "      <td>493.3</td>\n",
              "      <td>607.3</td>\n",
              "      <td>754.2</td>\n",
              "      <td>1503</td>\n",
              "      <td>300.766667</td>\n",
              "      <td>28.1</td>\n",
              "      <td>80.2</td>\n",
              "    </tr>\n",
              "    <tr>\n",
              "      <th>6</th>\n",
              "      <td>2020-07</td>\n",
              "      <td>601.1</td>\n",
              "      <td>486</td>\n",
              "      <td>894.9</td>\n",
              "      <td>215.5</td>\n",
              "      <td>360.3</td>\n",
              "      <td>507</td>\n",
              "      <td>628.6</td>\n",
              "      <td>767.1</td>\n",
              "      <td>1466.1</td>\n",
              "      <td>267.677419</td>\n",
              "      <td>27.9</td>\n",
              "      <td>78.2</td>\n",
              "    </tr>\n",
              "  </tbody>\n",
              "</table>\n",
              "</div>"
            ],
            "text/plain": [
              "     month overall public_housing  ... mean_new_covid_cases mean_temp mean_rh\n",
              "0  2020-01   384.3          310.5  ...             1.444444      27.7    77.9\n",
              "1  2020-02   406.7          327.7  ...             3.068966      27.9      76\n",
              "2  2020-03   420.9          334.7  ...            26.580645      28.6    75.2\n",
              "3  2020-04   453.3          360.9  ...           508.100000      28.9    76.4\n",
              "4  2020-05   450.9          360.7  ...           603.709677      28.9    79.1\n",
              "5  2020-06     591          473.6  ...           300.766667      28.1    80.2\n",
              "6  2020-07   601.1            486  ...           267.677419      27.9    78.2\n",
              "\n",
              "[7 rows x 13 columns]"
            ]
          },
          "metadata": {
            "tags": []
          },
          "execution_count": 19
        }
      ]
    },
    {
      "cell_type": "markdown",
      "metadata": {
        "id": "HPN9acyKYzpv"
      },
      "source": [
        "### **4. Data Visualization**"
      ]
    },
    {
      "cell_type": "code",
      "metadata": {
        "id": "4zL_wQlMoaLK"
      },
      "source": [
        "import matplotlib.pyplot as my_plt\n",
        "%matplotlib inline\n",
        "my_plt.close(\"all\")"
      ],
      "execution_count": null,
      "outputs": []
    },
    {
      "cell_type": "markdown",
      "metadata": {
        "id": "qmWaPVRSorx4"
      },
      "source": [
        "Let's explore the dataset a bit to see if we can find any trends. But before that, we will change the default plot size to have a better view of the plots. Execute the following script"
      ]
    },
    {
      "cell_type": "code",
      "metadata": {
        "id": "sS6-7Llqox-e",
        "colab": {
          "base_uri": "https://localhost:8080/",
          "height": 592
        },
        "outputId": "f3842819-730e-4961-bad8-d9aea7aee24b"
      },
      "source": [
        "# Params: x, explode, labels, colors, autopct, pctdistance, shadow, labeldistance, startangle, radius, counterclock, wedgeprops, textprops, center, frame, rotatelabels, normalize, data)\n",
        "my_labels = list(clean_data.month)\n",
        "my_explode = (0.3, 0, 0.15, 0, 0, 0, 0)\n",
        "plot = clean_data.plot(kind='pie', y='mean_new_covid_cases', figsize=(10, 10), autopct='%0.1f%%', labels=my_labels, explode=my_explode)\n",
        "my_plt.title(\"Monthly Covid Cases ('2020, mean value)\", fontsize=16);"
      ],
      "execution_count": null,
      "outputs": [
        {
          "output_type": "display_data",
          "data": {
            "image/png": "[encoded data removed]",
            "text/plain": [
              "<Figure size 720x720 with 1 Axes>"
            ]
          },
          "metadata": {
            "tags": []
          }
        }
      ]
    },
    {
      "cell_type": "code",
      "metadata": {
        "id": "S2e26AKBrrt6",
        "colab": {
          "base_uri": "https://localhost:8080/",
          "height": 406
        },
        "outputId": "c3573d78-6bcd-4425-d210-1d5f95bb6023"
      },
      "source": [
        "clean_data_area = clean_data.loc[:][['month', 'mean_new_covid_cases']]\n",
        "plot = clean_data_area.plot(kind='area', x='month', y='mean_new_covid_cases',figsize=(12,6), stacked=False)\n",
        "my_plt.title(\"Monthly Covid Cases ('2020, mean value)\", fontsize=16);"
      ],
      "execution_count": null,
      "outputs": [
        {
          "output_type": "display_data",
          "data": {
            "image/png": "[encoded data removed]",
            "text/plain": [
              "<Figure size 864x432 with 1 Axes>"
            ]
          },
          "metadata": {
            "tags": [],
            "needs_background": "light"
          }
        }
      ]
    },
    {
      "cell_type": "code",
      "metadata": {
        "id": "WsZs0_15u0Tv",
        "colab": {
          "base_uri": "https://localhost:8080/"
        },
        "outputId": "f8d919ab-12a8-4e77-de57-61de708abc45"
      },
      "source": [
        "#Convert object to float data types.\n",
        "clean_data_converted = clean_data\n",
        "for col in clean_data.columns:\n",
        "  if 'month' in col:\n",
        "    print(col) #ignore\n",
        "  else:\n",
        "    clean_data_converted[col] = clean_data[col].astype('float')\n",
        "#end for"
      ],
      "execution_count": null,
      "outputs": [
        {
          "output_type": "stream",
          "text": [
            "month\n"
          ],
          "name": "stdout"
        }
      ]
    },
    {
      "cell_type": "code",
      "metadata": {
        "colab": {
          "base_uri": "https://localhost:8080/",
          "height": 406
        },
        "id": "_qZNTlclEbuw",
        "outputId": "7cceaaf9-e129-418e-a7d2-532d920b53c5"
      },
      "source": [
        "clean_data_line = clean_data_converted.loc[:][['month', 'private_housing','public_housing','5-room_and_executive','1-room_2-room','private_apts_and_condo','3-room','4-room','5-room_and_executive']]\n",
        "plot = clean_data_line.plot(kind='line', x='month', figsize=(12,6))\n",
        "my_plt.title(\"Monthly Electricity Consumption ('2020, ALL Household)\", fontsize=16);"
      ],
      "execution_count": null,
      "outputs": [
        {
          "output_type": "display_data",
          "data": {
            "image/png": "[encoded data removed]",
            "text/plain": [
              "<Figure size 864x432 with 1 Axes>"
            ]
          },
          "metadata": {
            "tags": [],
            "needs_background": "light"
          }
        }
      ]
    },
    {
      "cell_type": "code",
      "metadata": {
        "colab": {
          "base_uri": "https://localhost:8080/",
          "height": 243
        },
        "id": "iZBsC_E6IBNB",
        "outputId": "c79015c3-b08b-4a27-e43d-91556476c712"
      },
      "source": [
        "clean_data_line = clean_data_converted.loc[:][['month', '3-room','4-room']]\n",
        "plot = clean_data_line.plot(kind='line', x='month', figsize=(12,3))\n",
        "my_plt.title(\"Monthly Electricity Consumption ('2020, 3 & 4 Room Household)\", fontsize=16);"
      ],
      "execution_count": null,
      "outputs": [
        {
          "output_type": "display_data",
          "data": {
            "image/png": "[encoded data removed]",
            "text/plain": [
              "<Figure size 864x216 with 1 Axes>"
            ]
          },
          "metadata": {
            "tags": [],
            "needs_background": "light"
          }
        }
      ]
    },
    {
      "cell_type": "code",
      "metadata": {
        "colab": {
          "base_uri": "https://localhost:8080/",
          "height": 501
        },
        "id": "-jUlnBDmHMPT",
        "outputId": "eed61ad0-f0d6-45b4-d2e1-4335b5459a47"
      },
      "source": [
        "clean_data_bivariate = clean_data_converted.loc[:][['month', 'private_housing','public_housing','5-room_and_executive','1-room_2-room','private_apts_and_condo','3-room','4-room','5-room_and_executive']]\n",
        "clean_data_bivariate.plot(kind='barh', x='month', figsize=(12,8))\n",
        "my_plt.title(\"Monthly Electricity Consumption ('2020, ALL Houses)\", fontsize=16);"
      ],
      "execution_count": null,
      "outputs": [
        {
          "output_type": "display_data",
          "data": {
            "image/png": "[encoded data removed]",
            "text/plain": [
              "<Figure size 864x576 with 1 Axes>"
            ]
          },
          "metadata": {
            "tags": [],
            "needs_background": "light"
          }
        }
      ]
    },
    {
      "cell_type": "code",
      "metadata": {
        "id": "_1342oOiZqfB",
        "colab": {
          "base_uri": "https://localhost:8080/",
          "height": 626
        },
        "outputId": "87667daf-eb8b-485b-bd3b-9904fda7c11b"
      },
      "source": [
        "clean_data_bivariate = clean_data_converted.loc[:][['month', 'private_housing','public_housing','5-room_and_executive','1-room_2-room','private_apts_and_condo','3-room','4-room','5-room_and_executive']]\n",
        "clean_data_bivariate.plot(subplots=True, x='month', figsize=(12, 8))"
      ],
      "execution_count": null,
      "outputs": [
        {
          "output_type": "execute_result",
          "data": {
            "text/plain": [
              "array([<matplotlib.axes._subplots.AxesSubplot object at 0x7f9cd0742310>,\n",
              "       <matplotlib.axes._subplots.AxesSubplot object at 0x7f9cd2166d90>,\n",
              "       <matplotlib.axes._subplots.AxesSubplot object at 0x7f9cd227fd90>,\n",
              "       <matplotlib.axes._subplots.AxesSubplot object at 0x7f9cd23b3110>,\n",
              "       <matplotlib.axes._subplots.AxesSubplot object at 0x7f9cd23ba250>,\n",
              "       <matplotlib.axes._subplots.AxesSubplot object at 0x7f9ce9937b50>,\n",
              "       <matplotlib.axes._subplots.AxesSubplot object at 0x7f9ce994dd10>,\n",
              "       <matplotlib.axes._subplots.AxesSubplot object at 0x7f9ce992e410>],\n",
              "      dtype=object)"
            ]
          },
          "metadata": {
            "tags": []
          },
          "execution_count": 72
        },
        {
          "output_type": "display_data",
          "data": {
            "image/png": "[encoded data removed]",
            "text/plain": [
              "<Figure size 864x576 with 8 Axes>"
            ]
          },
          "metadata": {
            "tags": [],
            "needs_background": "light"
          }
        }
      ]
    },
    {
      "cell_type": "code",
      "metadata": {
        "id": "iY5su-zs8nWe",
        "colab": {
          "base_uri": "https://localhost:8080/",
          "height": 229
        },
        "outputId": "653e3bdf-cb83-4c30-f8c1-1f6fc61a5cac"
      },
      "source": [
        "clean_data_bivariate = clean_data_converted.loc[:][['month', '3-room','4-room']]\n",
        "plot = clean_data_bivariate.plot(kind='barh', x='month', figsize=(12,3))\n",
        "my_plt.title(\"Monthly Electricity Consumption ('2020, 3 & 4 Room Household)\", fontsize=16);"
      ],
      "execution_count": null,
      "outputs": [
        {
          "output_type": "display_data",
          "data": {
            "image/png": "[encoded data removed]",
            "text/plain": [
              "<Figure size 864x216 with 1 Axes>"
            ]
          },
          "metadata": {
            "tags": [],
            "needs_background": "light"
          }
        }
      ]
    },
    {
      "cell_type": "code",
      "metadata": {
        "colab": {
          "base_uri": "https://localhost:8080/",
          "height": 229
        },
        "id": "NlyCEO7UIsS9",
        "outputId": "f680d067-04c4-4c03-df95-44d930fc514a"
      },
      "source": [
        "clean_data_bivariate = clean_data_converted.loc[:][['month', '3-room','4-room', 'mean_new_covid_cases']]\n",
        "plot = clean_data_bivariate.plot(kind='barh', x='month', figsize=(12,3))\n",
        "my_plt.title(\"Monthly Electricity Consumption ('2020, before & during pandemic for 3 & 4 Room Household)\", fontsize=16);"
      ],
      "execution_count": null,
      "outputs": [
        {
          "output_type": "display_data",
          "data": {
            "image/png": "[encoded data removed]",
            "text/plain": [
              "<Figure size 864x216 with 1 Axes>"
            ]
          },
          "metadata": {
            "tags": [],
            "needs_background": "light"
          }
        }
      ]
    },
    {
      "cell_type": "markdown",
      "metadata": {
        "id": "Bs9fHFb9Rw8c"
      },
      "source": [
        "### Monthly Electricity & Covid Cases Correlation ('2020, before & during pandemic for 3 & 4 Room Household)"
      ]
    },
    {
      "cell_type": "code",
      "metadata": {
        "colab": {
          "base_uri": "https://localhost:8080/",
          "height": 103
        },
        "id": "cTaqB3FFNyKr",
        "outputId": "463a43bb-cd1f-4d42-c1df-6d46dd4e1486"
      },
      "source": [
        "clean_data_bivariate = clean_data_converted.loc[:][['month', '3-room','4-room', 'mean_new_covid_cases']]\n",
        "clean_data_bivariate=clean_data_bivariate.rename(columns = {'mean_new_covid_cases':'new_cases'})\n",
        "tb_corr = clean_data_bivariate.corr()\n",
        "tb_corr.style.background_gradient(cmap='coolwarm').set_precision(3)"
      ],
      "execution_count": null,
      "outputs": [
        {
          "output_type": "execute_result",
          "data": {
            "text/html": [
              "<style  type=\"text/css\" >\n",
              "#T_43f8f218_b8b8_11eb_9809_0242ac1c0002row0_col0,#T_43f8f218_b8b8_11eb_9809_0242ac1c0002row0_col1,#T_43f8f218_b8b8_11eb_9809_0242ac1c0002row1_col0,#T_43f8f218_b8b8_11eb_9809_0242ac1c0002row1_col1,#T_43f8f218_b8b8_11eb_9809_0242ac1c0002row2_col2{\n",
              "            background-color:  #b40426;\n",
              "            color:  #f1f1f1;\n",
              "        }#T_43f8f218_b8b8_11eb_9809_0242ac1c0002row0_col2{\n",
              "            background-color:  #3f53c6;\n",
              "            color:  #f1f1f1;\n",
              "        }#T_43f8f218_b8b8_11eb_9809_0242ac1c0002row1_col2,#T_43f8f218_b8b8_11eb_9809_0242ac1c0002row2_col0,#T_43f8f218_b8b8_11eb_9809_0242ac1c0002row2_col1{\n",
              "            background-color:  #3b4cc0;\n",
              "            color:  #f1f1f1;\n",
              "        }</style><table id=\"T_43f8f218_b8b8_11eb_9809_0242ac1c0002\" ><thead>    <tr>        <th class=\"blank level0\" ></th>        <th class=\"col_heading level0 col0\" >3-room</th>        <th class=\"col_heading level0 col1\" >4-room</th>        <th class=\"col_heading level0 col2\" >new_cases</th>    </tr></thead><tbody>\n",
              "                <tr>\n",
              "                        <th id=\"T_43f8f218_b8b8_11eb_9809_0242ac1c0002level0_row0\" class=\"row_heading level0 row0\" >3-room</th>\n",
              "                        <td id=\"T_43f8f218_b8b8_11eb_9809_0242ac1c0002row0_col0\" class=\"data row0 col0\" >1.000</td>\n",
              "                        <td id=\"T_43f8f218_b8b8_11eb_9809_0242ac1c0002row0_col1\" class=\"data row0 col1\" >0.999</td>\n",
              "                        <td id=\"T_43f8f218_b8b8_11eb_9809_0242ac1c0002row0_col2\" class=\"data row0 col2\" >0.352</td>\n",
              "            </tr>\n",
              "            <tr>\n",
              "                        <th id=\"T_43f8f218_b8b8_11eb_9809_0242ac1c0002level0_row1\" class=\"row_heading level0 row1\" >4-room</th>\n",
              "                        <td id=\"T_43f8f218_b8b8_11eb_9809_0242ac1c0002row1_col0\" class=\"data row1 col0\" >0.999</td>\n",
              "                        <td id=\"T_43f8f218_b8b8_11eb_9809_0242ac1c0002row1_col1\" class=\"data row1 col1\" >1.000</td>\n",
              "                        <td id=\"T_43f8f218_b8b8_11eb_9809_0242ac1c0002row1_col2\" class=\"data row1 col2\" >0.342</td>\n",
              "            </tr>\n",
              "            <tr>\n",
              "                        <th id=\"T_43f8f218_b8b8_11eb_9809_0242ac1c0002level0_row2\" class=\"row_heading level0 row2\" >new_cases</th>\n",
              "                        <td id=\"T_43f8f218_b8b8_11eb_9809_0242ac1c0002row2_col0\" class=\"data row2 col0\" >0.352</td>\n",
              "                        <td id=\"T_43f8f218_b8b8_11eb_9809_0242ac1c0002row2_col1\" class=\"data row2 col1\" >0.342</td>\n",
              "                        <td id=\"T_43f8f218_b8b8_11eb_9809_0242ac1c0002row2_col2\" class=\"data row2 col2\" >1.000</td>\n",
              "            </tr>\n",
              "    </tbody></table>"
            ],
            "text/plain": [
              "<pandas.io.formats.style.Styler at 0x7f9cd22ee790>"
            ]
          },
          "metadata": {
            "tags": []
          },
          "execution_count": 63
        }
      ]
    },
    {
      "cell_type": "code",
      "metadata": {
        "colab": {
          "base_uri": "https://localhost:8080/",
          "height": 286
        },
        "id": "GK8ahmB3Q31d",
        "outputId": "dd9b251f-ef67-4093-9504-09864952b338"
      },
      "source": [
        "import seaborn as sns\n",
        "\n",
        "my_plt.figure(figsize=(6, 4))\n",
        "sns.heatmap(clean_data_bivariate.corr(), annot=True, cbar=True)"
      ],
      "execution_count": null,
      "outputs": [
        {
          "output_type": "execute_result",
          "data": {
            "text/plain": [
              "<matplotlib.axes._subplots.AxesSubplot at 0x7f9cd2223210>"
            ]
          },
          "metadata": {
            "tags": []
          },
          "execution_count": 65
        },
        {
          "output_type": "display_data",
          "data": {
            "image/png": "[encoded data removed]",
            "text/plain": [
              "<Figure size 432x288 with 2 Axes>"
            ]
          },
          "metadata": {
            "tags": [],
            "needs_background": "light"
          }
        }
      ]
    },
    {
      "cell_type": "markdown",
      "metadata": {
        "id": "ohRZ3ievN0Wd"
      },
      "source": [
        "**Time comparison**\n",
        "In my testing, style.background_gradient() was 4x faster than Matplotlib.matshow() and 120x faster than seaborn.heatmap() with a 10x10 matrix. Unfortunately it doesn't scale as well as my_plt.matshow(): the two take about the same time for a 100x100 matrix, and Matplotlib.matshow() is 10x faster for a 1000x1000 matrix."
      ]
    },
    {
      "cell_type": "markdown",
      "metadata": {
        "id": "hXUWIepOY8J-"
      },
      "source": [
        "### **5. Discussion/Analysis**\n"
      ]
    },
    {
      "cell_type": "markdown",
      "metadata": {
        "id": "iTo-72V6ZZf4"
      },
      "source": [
        "   \n",
        "1. Positive correlation between number of covid cases and electricty consumption as evidence by month over month data (bivariate analaysis) however, skewness was noted for June/July where increased electricity consumption but decreased in covid cases.\n",
        "\n",
        "2. Expectations that electricity consumption will be higher during cb period (7 Apr to 31 May) however electricity cosnumption was higher during subsequent months where covid cases started declining. This negative correlation between covid cases June/July vs electricity consumption could be due to influence of another variable such as weather data. (multivariate analysis)..\n",
        "\n",
        "\n",
        "\n"
      ]
    },
    {
      "cell_type": "markdown",
      "metadata": {
        "id": "lTIYRQz-aoDN"
      },
      "source": [
        "![data science process.png](data:image/png;base64,iVBORw0KGgoAAAANSUhEUgAAA28AAAH2CAIAAABoWyMJAAAAAXNSR0IArs4c6QAAAARnQU1BAACxjwv8YQUAAAAJcEhZcwAADsMAAA7DAcdvqGQAAHSvSURBVHhe7b35exzVmfb/vn/CvP/C/D5JZsgsWSd7ZskyW5bJm0lmkrBDAoQETCCEzMw3i40Bk+BAIBBgCDY2XsB4xdolqy3L1mrZWtzarF2y1JIsG/D37n5KJ52S2m+7u7pUXfp8rvvSderUqeU89fQ5d1d3l/7XFQAAAACAQsFNAgAAAEDh4CYBAAAAoHBwkwAAAABQOLhJAAAAACgc3CQAAAAAFA5uEgAAAAAKBzcJAAAAAIWDmwQAAACAwsFNAgAAAEDh4CYBAAAAoHBwkwAAAABQOLhJAAAAACgc3CQAAAAAFA5uEgAAAAAKBzcJAAAAAIWDmwQAAACAwsFNAgAAAEDh4CYBAAAAoHBwkwAAAABQOLhJAAAAACgc3CQAAAAAFA5uEgAAAAAKBzcJAAAAAIWDmwQAAACAwsFNAkDYbNiw4X+t4FOf+tRPf/rTiYkJrxEAAJQJuEkACBsZR89CruCP/uiPTp486bUDAIByADcJAGFjblJ/veUrV3p6en760586Q6lFbwUAAEQe3CQAhM1KN2ls3brVDOWGDRu8KgAAiDy4SQAIm1xuUvzxH/+xVl133XXeMgAARB7cJACEzVXcpK0S3vLyDcsvfvGLKv/0pz/9oz/6Iy3KbnZ3d1sDMTExsWHDBlVmNk1/Vq72L730krd6BVqlBtZY/vWmm25a9bN1NXPnI1RedZ86uk7MHV2FlT8n0v51FPPKIteuAADKEdwkAISNWTT99ZazsFVyXd5yxkFaY7mxtBFbpqqqyhq8/vrrZjFXoq1W/kj85ptv9lZnoT00Nzd7LTIG0c5kJToNr1EGtXzve9/rrctCp+21uHLl5MmTq56h6wIAQFmDmwSAsDGjpr/e8jJyZmaz7E6kYW7SkMt86aWXqqurVWl3E51R0yrZSttEle7WY/auhNubux+pv9ZYf9955x1rZjXasw5nflTN3LbZTnHr1q3/+3//b7XMPrp2nt3G9nbddde5n6ursbqPmwSAeICbBICwyeUmnV3L/hTYVcqxrbzRaLtadZV5OGGuUaiNnJ9qtMpqHDKFsoDmJuX5bENn/hx2Mjqct3zlyqc//WnVXP1nQ5md/S9nNwEAYgZuEgDCZqWblG9zjzS/7g9/guPc5EpvJ5toq1Y1c26tu00ok2puMvtD7ZXYmaw0u6K6ujqzy9+fzJe+9CUt/vEf//FKO+uQ+1SblRYWACAe4CYBIGzMTa6KVvlsmXOT3nIWztup4FX9IT4b5wyr+0R7Va5yeg53xNdff90cqkxwrruP7rg6k5WeGACg3MFNAkDYrLRrsn1yWqv+zPkqbtKtcp9l+7AD6W/2omzf1d2k++V1LnS22Ud0tzxtlbzjyvPJ/gmR9r9169ar3MsEACgvcJMAEDY+k3d1AneT+nt1N2l3NPM8PUMnIBNpGwoVVt4uVU22p5SpzX7IEQBA+YKbBICw8Zm8q3MVN/n666/bqqt/0i0PZ4vOzOXzSfc1uUnHSy+9ZAfV3/Hxca82i4nMwykzZ1HgIQAAogZuEgDCJig3eXL5x9dbt271qrJwa90H6PY0H9Vc/Vc4znQW9mG087hXeQDQfffdZ228ZQCAcoaxDADCJig3Kew7jqv+pPqLy8+MdKt6enpyPSFIjlOVds/S2UEd2tZeE9XLvw26ipu8eqcAAMoLxjIACJsA3aRzftk/qT6Z9fRy321Le6CPcL+V0V+7GanzcZ+Aa2/WTKvcr7DVUqZTzbLN6P/5P/9Hu3JtVLBt5WJtbzKX9rMbO5zQeWortVlpagEAyhHcJACETYBuUrgGK5HP8xotM5HjHyHK/Pn+s6IzlCtxX8QU7tfcPpy1dbcqfeiI/AoHAOIBbhIAwsZuHOZ5Z27r1q3mvbzl1bCfS7sn+6igxVw/zZFTlAF1ZlGNV32mj7A7kdZMaBOds/sWprHqod2tSsM+RlcXrI32oyOu/GgeAKBMwU0CAAAAQOHgJgEAAACgcHCTAAAAAFA4uEkAAAAAKBzcJAAAAAAUDm4SAAAAAAoHNwkAAAAAhYObBAAAAIDCwU0CAAAAQOHgJgEAAACgcHCTAAAAAFA4uEkAAAAAKBzcJAAAAITHOxnezuItuHa82L39tsVTePFdC3CTAAAAEAZmeswDyQ9dXuYSFIRFz5ylxVZ4sQ4X3CQAAACUHPM65iPlhJaWli5evLiQYT5DCvLDwmWhW1xcVCQVT3e3ck0MJW4SAAAASotZSbsfKfcjDyQ/NDs7OzMzMz09PTU1NZlhAq6KRUkoYoqboqcYyl+ap7T7lBZqL+5hgZsEAACAEmL+5u2335bdsfuR8kAyQ7JHIyMjw8PDg4ODAwMD/ZAHCpRQxBQ3RW98fFyRVDwVVTOUa3J7EjcJAAAAJcRZSdmd+fn5CxcuyAN9/ccJFJTGxsdnZmYUW5l19zVKL/qhgJsEAACAEiJnY9+VXFhYkJWcmJgYHBz8+kOJr6GANDA4KIOu2CrC7vNuL/qhgJsEAACAUiFbI+wz7rm5OVnJoaGh7u7uf3sogYLSmbNnFdXJyUlFeE0+78ZNAgAAQKmQp5GzcTcmR0ZG+vr6Wltbv/qjBApKLa2tvb29iu3MzMzi4qKijZsEAACAmGBu0r4xOTU1NTg4eObMmePHj3/lwQQKSopnV1fX0NCQImw/xwn5w27cJAAAAJQK5yZTqdTExEQymWxvb6+trfX5IVSMFM+2trb+/n5FWK4dNwkAAADxQZ5Gzsa+NDk+Pt7b29vS0lJRUfGvDyZQUFI8T5061dfXNzY2Jtduv+zGTQIAAEAccG5ydnZWXqenp6e5ufnIkSNf/mECBSXF88SJE4rt6OgobhIAAABihbnJxcXFCxcuyOucPXu2qanp4MGDX3oggYKS4nn8+PHu7u6RkZG5uTlFWzF/++23vWtQenCTAAAAUCqy3aS8jrnJAwcOfPGBBApKimcikVBsz58/b27SHhLkXYPSg5sEAACAUuFzk/aD7v3793/hgQQKSopnY2MjbhIAAABiSC43+S/3J1BQwk0CAABAbMnlJv/5BwkUlHCTAAAAEFtyucl/+kECBSXcJAAAAMSWXG7yH+9LoKCEmwQAAIDYkstN/sN9iTXXhdTl+57q9FWWo3CTAAAAEFtyucnPb0gEog1PdnpHyvB6/aivwVUkN6nNfZX5S8fq6k/5KtdEuEkAAACILbnc5Oc2JALRvRk3+fn7/PX5SG5Sm/sq89dr9aOn+1O+yjURbhIAAABiS043eW9jILr3Vxk3ueH3Na/Vjc7OX7ayVj21N6mCjOOxjunMGV1RA1ubdpO/6nQtDTWzmsGJxdP9c6rRX+3E1gotfj5zFG95eYdu/8LOR1sNTSzqZFRT1zalgjZUvZ2zHSUQ4SYBAAAgtuRyk5+9tzEQ3ZNxZoaZSFXKw8nbyfbprzV75520TVThyYwvtEq5SW1uBTlCq9RaK8tNaj+2w2ypgeygCmqmQ1ilyjq6lRs6pq1sx9Jfq9c52IZq4DYMRLhJAAAAiC253ORn7mkMRPdsTbtJOaqVlbJ0rkZOzrVR/ZN7kiqk3eTWTulCVkuZTkmFwfFFa2YaGl/MdCjNvVs7VZN2k8k5W6uCFq0s6XD6q821lavsTKbdrQo6bvaeixduEgAAAGJLLjf59/c0BqLvZ4zjZ+5dpVK4mrS9W24jN/mrPUkV5OrUUpKbtFVSQ8e0pILcpDWzSvlCK2tzbaLC3oybtEoVtGhlSYfTX23utrJF2zb7cIEINwkAAACxJZeb/NvvNwaiuzPG8e/u+YNKebg9taOdyTnp7zI1sncN7dMqbN2T/vTZmslNanMrqL1Vaq3aqCA3aQVJ22pXKtjm38tspU10IGugspyilevb09ZTBTV2DUw6kGrsTAIUbhIAAABiSzhu0iGjJjkPpxqziXKTsoPWxnlE5yazd+JsZbablLzVV65o57aVq7RN3P5lK83CrnSTMppqYGY0QOEmAQAAILbkcpN/873GMCU3Kdflqwxf3u3MFfVFCjcJAAAAsSWXm/z03Y1hSm5SrstXGb5mUpd31476KosXbhIAAABiSy43+am7G1FQwk0CAABAbMnlJj95dyMKSrhJAAAAiC253OQnvtuIghJuEgAAAGJLLjf58bsaUVDCTQIAAEBsyeUmP3ZXIwpKuEkAAACILbnc5EfvbERBCTcJAAAAsSWXm/zInY1rq9q29IPEHbc/3ulrkK0LqctXb7C2wk0CAABAbMnlJv/6jsa1ldxk+7m5j2TKO6tHdaq3b+nMbpCttJvMvXbNhZsEAACA2JLLTX74jsa1VU3GTcqK2aLKkhW8U79y5bGdSdXIStqiCtmLwrZdc72BmwQAKJiP31mDECpHffg7xz70ncY1VE1r2k1+eHlxR9XowNiiW+tqrIEc5K2PdWavldrOzWknvso1EW4SAKBwfPMTQqhcFFk3KdfojS9XrqzqJtXSW33lCm7SwE0CQBnjm58QQuWiD3+74YPfPraGqmmdauub+9DyosqSCjKOO6pGVHh0x7m0v8ysVeUtj3aooL8aeW7NlKtbp7QTFdZcuEkAgMJxM5O3DAARI9f3Jn1+KHxlu0nZR52q+UUZR/lIFVr75rLdpFWam/zQd9KVM3OXcZMGbhIAyhjcJEDEyeUmP3B7w9qqunXKO8UMrv6VjLMUspLSB7Maz6QuqywP6hqo3m24hsJNAgAUDm4SIOJE1k3GSbhJAIDCwU0CRBzcZAjCTQIAFA5uEiDi5HKT77+tHgUl3CQAQOHgJgEiDm4yBOEmAQAKBzcJEHFyucn33VqHghJuEgCgcHCTABEHNxmCcJMAAIWDmwSIOLnc5F/dWouCEm4SAKBwcJMAESenm7ylNvpq7Z3dXjHsq4ygcJMAAIWDmwSIOLnc5F/eUhOa3nnnSv/Ywl+tqP9/qiXjJn2Vq0rNZlKXfZWhCTcJAFA4uEmAiJPTTd5cE47k81p7Z3UmNz3c4lv1/5TnJlfUR024SQCAwsFNAkScNXeTyZGFh7f1yFBWnZq0Gi32jy5Idobpe5aZSlsUamwtzU3aKquRVJYxVX2m7RXtR5W2T2vwzju25sqN1+5fCxNuEgCgcHCTABEnl5v8i5urQ9AND5+StfvLW6o3beuZSV22SpV1YvqrsvxixmX+wVZaqw1t7baKYRW0rbXXYsY1Vk/PXb4x08aktapXofLU5Modllq4SQCAwsFNAkSW85OL+pvTTd5UHYJk7NI3GjNl+b+0I7xp2fllKrcdTX8Obg1UaWcubth0SjVpN3l0WAXbj7WxGq1yzSS3TxVUr/ZWH45wkwAAhYObBIgsv9zV+/n7Gt44dn5VN/nnN1WFoJnUJe9sMsgRqnLTtm45P2uw7ehQxiZWVZ2acJXa6vpNp1TIuMkhFbSozVWwv05qKamQvU+p8tSEWqrS1ZRUuEkAgMLBTQJEFrlJe3nKU+6tHfC7yRurSq3rN6YtoJyiLW56uVuLVkg7v0yl5yZvTLvJtNdcbqZtVfbcZKalNpGsTbZW7tOklm7bUgs3CQBQOLhJgMji3KTpcxvqtx2WmfTc5HtvrCy1KtMG8cKfZ9XMpC69fHRoY8b5WY0WXRvvvDM/rPnWxpOqaem9oAaupVZpW1t0P7XRUbTo9qlNrF7HspYhCDcJAFA4bqLylgGysgJFUJ+9t27rtoa0m7yhsrwkv5g2iCvqoyDcJABA4bgpylsGwE2Wg/7xvqr33lhx3Q3lpP7RhcpTE77KiAg3CQBQOG5y8pYBcJPR1mfvrXvkhYZde/f7/BAqRrhJAIDCcVOUtwyQlRXum22wJqz83uSzr50+2Xravjd53fUVKCjhJgEACsdNVN4yAG4yMmT/pvvlI8nh0ans33T/2fVHUVDCTQIAFI7zDd4yAG4yMtjzJl+pGJyZuyh/43tC0J996ygKSrhJAIDCcb7BWwbATUaG7sHU3MLlXP8L50+/9SYKSrhJAIDCcb7BWwbATUYM3GQIwk0CABSO8w3eMgBuMmLkcpPv+eYRFJRwkwAAheN8g7cMgJuMGLjJEISbBAAoHOcbvGUA3GTEWNVNHjhw4N3fOIyCktxkIpHATQIAFILzDd4yAG4yYmS7ydHRUTmepqYm3GSw2n/gAG4SAKBAnG/wlgFwkxHD3OTFixdnZ2flJru7u0+cOHHo0CGfH0LF6MDBg8ePH1dsR0ZGcJMAANeG8w3eMgBuMmJku8mxsbGenp7m5uYjR468+z8OvQsFpMNHjsijK7by63KTirZijpsEAMgL5xu8ZQDcZMRwblIuZ3x8vLe3t6WlpaKiAjcZoI5WVJw8ebKvr09+PZVK4SYBAK4B5xu8ZQDcZMSQm5StWVpaksuZmJhIJpMdHR11dXXv+veDf4ICUk1tbVtbW39/vyI8Pz9vblKR965B6cFNAkAZ43yDtwyAm4wY5iYvXboklzM1NTU4OHjmzJlEInHkyJFdu3a98MILTz755OOPP7558+ZNmzb9bJmfRoAbHnjJ5C2vNRaZjRs3KlZbtmx56qmnnn/+ecVQkVQ8u7q6hoaGJicnFxYW5N1xkwAA+eJ8g7cMgJuMGM5NyuXYQ4L6+vpaW1vr6+sPHz68Z8+ebdu2vfjii88+++wzzzzz9NNP/zoyuETyliOA4qMoPffcc3Lh27dvV/RkJRsaGhRPRXV0dHRmZmZxcVHRVsxxkwAAeeGGe28ZADcZMcxNXr58+eLFi6lUanJycnh4uLu7u6Wl5dixY5WVlYcOHdq3b5+M0e7du1+NEi6RvOUIsGvXLkVp7969ipjipugphoqk4mk3Jufm5paWluwH3bhJAIC8cMO9twyAm4wY8jTirbfecrcnx8fHBwcHZYDa29ubm5sbGxvr6+urq6urqqpkj6KDSyRvORooSjU1NXV1dYqboqcYKpKKp6Kq2CrCirN9zC28a1B6cJMAUMa44d5bBsBNRg/ZGrs9ubS0ND8/L9MzMTExPDycTCZ7enq6uro6OzvbMrRGiU8sJ5K3HBnkIDs6OhQ3+UjFUJE0K+l+fxPyjUmBmwSAMsb5Bm8ZADcZSWRu5HLs8+6FhYXZ2dnp6Wl5oJGREZmhwcHBgYGB/ojh3KS3HBkUK0VMcVP0FENFUvE0K+k+48ZNAgDki/MN3jIAbjKSyNzI5ZihXFpaWlxcTKVS8kAzMzNTU1OTk5MT0cO5SW85MihcQiZS0VMMFUn7HbdiG/5n3AZuEgDKGOcbvGUA3GRUMZfjPOWlS5dkgC5evChnKTMUQZyb9JYjhuKm6CmGiqT5yDW5K2ngJgGgjHG+wVsGwE1GGPM6ZiidpzTkiqKGc5PecmTwQpbBfKRYQyspcJMAUMY43+AtA+Amo405Hoc8UGRxbtJbjipeKDN4UQ4d3CQAlDHON3jLALhJCIhP3MXwki+4SQAoY5xv8JYBcJMQELjJ/MFNAkAZ43yDtwyAm4SAwE3mD24SAMoY5xu8ZQDcJAQEbjJ/cJMAUMY43+AtA+AmISBwk/mDmwSAMsb5Bm8ZADcJAYGbzB/cJACUMc43eMsAuEkICNxk/uAmAaCMcb7BWwbATUJA4CbzBzcJAGWM8w3eMgBuEgICN5k/uEkAKGOcb/CWAXCTEBC4yfzBTQJAGeN8g7cMgJuEgMBN5g9uEgDKGOcbvGUA3CQEBG4yf3CTAFDGON/gLQPgJiEgcJP5g5sEgDLG+QZvGQA3CQGBm8wf3CQAlDHON3jLALhJCAjcZP7gJgGgjHG+wVsGwE1CQOAm8wc3CQBljPMN3jIAbhICAjeZP7hJAChjnG/wlgFwkxAQuMn8wU0CQBnjfIO3DICbhIDATeYPbhIAyhjnG7xlANwkBARuMn9wkwBQxjjf4C0D4CYhIHCT+YObBIAyxvkGbxkANwkBgZvMH9wkAJQxzjd4ywC4SQgI3GT+4CYBoIxxvsFbBsBNQkDgJvMHNwkAZYzzDd4yAG4SAgI3mT+4SQAoY5xv8JYBcJMQELjJ/MFNAkAZ43yDtwyAm4SAwE3mD24SAMoY5xu8ZQDcJAQEbjJ/cJMAUGacn1zsHkyZnG9wNXMLl712sF5xWYGbhGLATeYPbhIAygz5xU8s24WVaj4747WD9YpLBtwkFANuMn9wkwBQfvzspTPOMWTrh8904h/A5QNuEooBN5k/uEkAKD9y3Z48yY1JwE1CQOAm8wc3CQBlycrbkz98ptNbB+sblxK4SSgG3GT+4CZjzjsZ3s7iLbh2vNi9/bbFU3jxjSnWR6/PGbxARImZuYu+25Mnuqa8ddHAi12M0sbrRlZueF2NGC4lLl/2asoXL9DrZvCJFLjJ/MFNxhYbd2wY0pB0eZlLUBAWPRvcLbbCi3WMsH6VS9r85MXTzjfc/+t2rzZKWPRikDbeqWdyQ91xueH1M2K4rFha8mrKF4uzxTzzuvQSybswUEpwk/mDm4wnNtzYuK/xaGlp6eLFiwsZ5jOkID8sXBa6xcVFRVLxzB7WvYjHgrJLm9GJC843NLSOeLURwMJloYtB2mQnhpyNJYb6FdnEcFkxN+fVlCMWW0shBTw7i+yKeJcHSgZuMn9wkzHEBho37msk0pA0Ozs7MzMzPT09NTU1mWECropFSShiipuipxhqiDdzYHcLLNRe3Msc60vZpc2Pn23VWH/v1lPe8lpjURKxSRs7W19izM3NXbhwwRIjgrlhDkAa9yrKDIunxVYppFAr4Aq7PKUMpS4EhjIccJP5g5uMGzbEaKzRiGM3ljSZadDXCDUyMjI8PDw4ODgwMNAPeaBACUVMcVP0xsfHFUnFU1E1Z1CO95lWpXzT5vTZcxrrD9ae8ZYjQMzSxiWGTl5dkK2xxBgdHbXEiGBumAOQkl5F+WEpNDQ0dP78eYVa5lK2MvttSWwGnyiDm8wf3GTcyB769V5Wb2o1mX39xwkUlBRPDet2n+Ct5U+dvOiXLWWdNl98oMFXE0GVadq4xNBp6+TVBfnILS93+HoXNX1+Q73JV1/WuuOR5qmpKb0tkaG8dOmSpVBZZFH5gpvMH9xk3NDgorlKY83CwoI8gYZ+vcH92kMJFJQUTzkDxVYR1ixrH1x60S9bSJtSq0zTJjsx5GPUBXXk2w+f8PUOhaCfPNs6MjIiQ5lKpeL0VjbK4CbzBzcZKzSyCLuRMDc3J08wNDTU3d39bw8lUFA6e/asojo5OakIx+MjJ9ImBJVj2uj03I1JWUklxsDAQKL5tK9rKBxt29+aTCbHxsZi9lY2yuAm8wc3GSts9Hd3mPRGtq+vr7W19as/SqCgpHj29vYqtjMzM9kfOXnXoAwhbUJQOaaNTk9+xb78MDU1df78eb3HeOWNE76uoXBUVdds70ns9qRSCDdZanCT+YObjBVmC9zoPzg4eObMmePHj3/lwQQKSopnV1eXjemyX4p2uY/ppE0IKru00bkJd8d6bGysv7+/vb39P59q9HUNhaAbf9IoOjs7dRXcHW7cZKnBTeYPbjJWaGQxW6B3rhMTE8lkUqN/bW2tb2BCxUjxbGtr05iuCMt+xclNkjalU9mljWWF3bGemZkZHh7u7u5uamq64SeN//pgAoWs7z+qDKptbW09d+7c+Pj47OwsbjIEcJP5g5uMFRpZNL7YvQSNOL29vS0tLRUVFb6BCRUjxfPUqVN9fX1jY2Pu6/BlPaaTNiGo7NJG5+beY0xNTckHd3Z27j9S5+sXCkePPHOwqqrKUgg3GRq4yfzBTcYKZws01mjS6unpaW5uPnLkyJd/mEBBSfE8ceKEYjs6OhozN0nalE5llzayki4r3HuMZ1+p9vULhaP/2f6a3KQuwblz5yYmJvikOxxwk/mDm4wVZgsWFxcvXLigSevs2bNNTU0HDx780gMJFJQUz+PHj3d3d4+MjGhMV7QVc0293jUoQ0ibEFReaaOU0LldvnxZ5zkzM6Nztq/S3v+LWl+/UAj694fqdu/eXV1d3dqa/lm3fW+SX+GEAG4yf3CTsSLbFmgCMFtw4MCBLz6QQEFJ8Uwk0g98OX/+vNkCe9qLdw3KENImBJVX2piblF+xH2YNDQ11dHQ0NDR847+O+fqFQtC3f3b0tddeq6ur01UYGBiYnp7WdbH8wU2WFNxk/uAmY4XPFtjthP3793/hgQQKSopnY2NjjN0kaVMKlVfaWErYlyYnJib6+/tbWlr2Har5wv0JFL7++xd73njjDeWPPRZgZmZmIfO8ybIedsoC3GT+4CZjRS5b8C/3J1BQWj9u0tdxVIzKKG2UD0KnZ1+aHB0d7e3tPXHixNMvV/o6hcLRb17YcejQoaamJvumhC6K8kevWdxkqcFN5g9uMlbksgX//IMECkrrx036Oo6KUXm5SZ3YpUuXdJL2bCCdtk5+w5ZaX6dQCPrqg3U7duywZwLY44HsV1y6RrpS3jWD0oCbzJ8g3aQy21CWG5qi1gNebzN4IVijF7mOq/NZaQv+6QcJFJTWj5v0dRwVo3J0kwsLC/Y0+87Ozrq6uq/9+JivUygE3fL/vblnz56ampr29vaBgYHJyUl7XqlNN941g9KAm8yfYNykctoGIJHxV29poBQaj9YJ1l/ru73IhRedENFBdQIrbcE/3pdAQWn9uElfx1ExKjs36b40mUwm29raXjtQ7esRCkf/9Xj6S5MNDQ1dXV3Dw8PT09NKHk06NtF41wxKA24yf4p1k8pmG3o0G2lwVIprDFKu602t0FsooSEpxlgfrb/quLpv5tLZSi9SoaDDrWoL/uG+BApK68dN+jqOilF5uUnlw8Xlf6jY29t78uTJp35X6esRCkfPPL/j8OHD7kuTepHq0ih5dJmEd82gNOAm86coN6lU1mgozEcqxeWoZLBmZ2dnZmb0FmpqampyGb3HjR/WNXVTnVWX1XF1X0FQKBQQZyhDe83rQKvags9vSKCgtH7cpK/jqBiVS9ooGXRWygeNY8oHna3lwz2P1fp6hELQlx+o3blzZ2VlpQx99v9UNDfpXTMoGbjJ/CncTSqVhQYdpbX5SA2RclRyV3o7qzFoeHh4cHBwIEN/TLHeqZtDQ0Pqsjqu7isICoUCYq/5MA2lXZGVtuBzGxIoKK0fN+nrOCpG5eUmdW7z8/N6k6zBraOjo76+/v/+qOFz9zaikHXjfx3Zs2eP/ZN3zTWaX1KplN2qCGdOWefgJvOnQDepPLZBx25JKr9loSYmJvqSwwdqznz/8eYbfnL8az9OrCupy//9m1O73uzSbKFQKCAaju0jCXvlCy98JUOHWN0WrBikUMFaR25yRd9RwSojN6lk0MCuk9Q4lkwmW1paXj9Y89l7G1H4+vGW9Jcmjx07dvr0afvSpKaVch9wygjcZP4U7ibt/avckpJbzmlsbKy7d+C/njn11YcS61x3b2lWKBQQhUU+O/sOpRe+kpHLFvhGKFSM1o+b9HUcFaMycpM6MY1as5l/2m5PmnzypcrP3NOIwtczz6efNKlL4L40GYMBp4zATeZPIW7SrKSmH404ZiVHR0e7zp778a9PfuXBBJLuevSE3tMrLPZWUoFSuBQ34QWxNGj/q9oC3wiFitH6cZO+jqNiVBZpkxmivOeWa2DXqSoZdNrfe7Tm7+9pRCHrC/fX7tix4+jRoy0tLX19fePj48ocXRqbTbxrBqUEN5k/hbtJjTg2/Uxk/u/W795o/fIPE8jppX0tCove3Nv/LbCZo9RDgPa/qi3wDVKoGK0fN+nrOCpG5eImdUqXVjxp8ss/bPi77zeikHX9f6a/NFlTU9PR0aHZZJInTYYObjJ/rtlNKomF5h67MakRZ3h4WNPP/VubfP+ofp3ra/+Z0Myh4Vghss+7Q3hDaZdmpS342+83oqC0ftykr+OoGJWLm3Rj+/j4eDKZbG1t3Xug2tcXFI4eynxp0p40OTQ0ND09LZcvr4+bDA3cZP4U6CY1Dl7M/AvXsbEx+5r2N//b/4/q17n+748aNRD39vYqRJqkw5k8dGniZAtm5y/fvbXTV7nmwk3GWBdSpUq5MnKTGtt1hvbvuZubm3/1UuXffK8Rha+nM0+a1Iuxp6dHL0w3j6TnYNxkKOAm86cQN6kR0D4KmVn+F65Kd9+/FkWSwuL+e0E47ym181VtgW+QClYzqcve4a9c2bo76VtbjC7ITT7R6at00uF8NeFo/bhJX8eDUn37tHfgK1c6k3N/u6LBGkrJfJWUK0ZlkTY6H8uE2dlZnafONpFI3PVIzae/14hC1j9uqNm5c6f9e+5kMmlfmgztK/hg4Cbzp0A36T7m7u/vty/W+P4ZFJIUlvb29sHBwdAeEqadr2oLPn13Y+mkCfiJ3UkV9FfnkL2qSMlNfveXnb5Kp2CPlb/Wj5v0dTwoyU3KRFpZl3h37ahbteZSMl8l5YpR9NPGxnadlcZ2e9Kkxvb6+vp/ub/hU3c3opD1jYd+/6RJm0R0XUKYRCAb3GT+FOImlc32UUj6AZN9fa2trZWVldmP70cmhWXVt5VeKEtALlvgG6eClSbgX+5OWlnncNcvO1WQS7BTEnqfbTXWTH9dpZyEjIUKTtrcAjQ4vqhNbG8qZ+rSaLJXjbeQaZa9qE1sP6XT+nGTvo4HJXOTVlZBiyoMjC+qrJOxVUoMOzdhV1xyNzV1leXPbCursZ1IthNX4zZxR+xYbuBqlGNWk51ygass3KTSQH5Fb33lXdyXJj95dyMKXw8+lv7SpHLGPWlyYWHBcqakkwhkg5vMn6LcpExSb2+vDNObb77pe7gakhSW5uZmGW77ZfcauknfOBWszE2qIAegyTh7ldSenKtrn1ZBf11B07ZtorXaylqatAerMT9x5y87s9fWtk/LDWhuVllrs1eZZC98Owxc68dN+joelJQAuohW1tHteunCKSus0t5vWNnSwCp92ZWdPJZRyha1sfQwuf2YXBJKOgfb3JdycpPWIFhFP210MjolDVMarDS29/T0aPja+j+Vn/huIwpfv37uFXvSpHJmdHRUr017NlBZDzVlB24yfwp3k/YTnO7ubo04Snrf4zCQpLBoVtagrLFA4VLQNFiviZv0jVPBSm7Sjq5Z2VXuqvn9vaW6tmnV/GJX2g2ooIlfZavUttbedMcv0neJNPXaotqrRgW1t12JjnNzn8ysVdmaSdqbrRU6tKsvhdaPm/R1PChlXyxLA0luUlfZNXD1kpJEaeCrtHpvLxnsuitnJMsQScmmVVZ2iw7t0FLONbBjucUAVS5uUic2MzNjaaATvuPhmo/f1YhC1ufuqdmxY0dFRYU9aXJiYkI5E8L9CPCBm8yfAt2kTTwySRocm5qaDh486PsBI5IUlkQi4f6HwRq6Sd9QFaw0Af/i1aQKmqo1Patwx+PpGVp/Va7NmABrmXaHj3eqmcq2lZWdbENNvbZo7VVQpR1CjkFu8hOZtaq0Zlrltmo/N6c2Vl8irR836et4UFI+6CL6KtNuMnOJJTVwOSOlHd7jnpt0lVbvNsmWGus1ln0I9dEyTX996WEp5xbtWG4xQEU8bZQDOhn7eeXU1NTQ0FBHR0f6C/E/aPB1BIWgr//oD540qStiX5rUNSrpDAI+cJP5U5Sb1MRjbvLAgQPul2jISWExN6n5Y23d5MfuaiydNAE//mpSBf3VOajwncwM7dbKUFpZE7xki3IPKr9aM2qrnOQgrVJ/tRPtSmVXsK002mZX6rjayioV3ZX7DFbrx036Oh6UlAC6iL5KXVnLIsklkqSrqYubXXDSO4eV+zFpDzKOblF5Ytvq0GYr3SrJl3Jyk9lrg1IE0+b85KJkZcuBpaWlVCo1Pj4uB9PS0rJnf7WvF4HLd6UClC76zPKwUHb64aN79u3b5540OTMzw5cm1wTcZP4U6yZt4pFt+uR3G0snTRve4a9c+eWupG9tZKWwaP4Ix03axJDLFnz0zsbSaWYu7SatrIlBE7YK7pK5GslcgjWuyXzcqRHfVjlZG6E9aNtvZxpoD1apGtV/LNPSDqEalfXXNXi1etR2VSLFzE2ePDsTctroaura+SrNTbpFd8WFJlerdEl1IXXZckC5ZzVCqeKSR6isGm/hyhWXFTqQV7WciqumXOCKYNrUtE5omvzlrt7hiQXlgM5HY5TObXR0tK+v78SJE7/8n8qP3NkYrNz4p0usxS2vJnVFshsEpdvlJlOXFXlfvcmOm2ttnlIXrBeB69e/Tf97br0M7UmTs8v/UE2XSXgRhNKDm8yfYNykBkr39aDA1ZGZQuy7dHf8In2Pwep3ZW4kuO/YXZP0erRvWZVUNn+E4ybdxDA4llp5dXxDFSpGEbQFxfD5+xru+kVr1akx0qakimDa2KBh+sWrPRo6FhYWlAP2FGGd7W0bq//6jsagdPuWtLnfWT1qiwNji6p5bGdSBdcmQGnncpMfWVFvsuPmWpunzE36KovX333Pe9LkyZMnk8nk2NhYKpXS9KGZFysZMrjJ/AnMTWbfpQ9Wso/uw81s2cdSH/+uvz4f6SVpn22VVDZ/hOkmTY+9cuZscjz76vhGK1SMImgLikFu0tLmji2nDh7rJ21KpAimTfagYdLQ0dU3Ojg4ePr06bq6us9uaPjwHY1BqSZzT1qhyK40V2dlGU07sQupy1bj7kYLtbRKle2TjexKJ7cTbav92OHcoGt71lbecmZX2YvayvZTvXwIV+NORgXt1p2DWHkaxeirD3pfmnSPK57P/Htu3GT44CbzJzA3qTd5JZLGGg0BH11R6Z1Qhi07k6rUX28584K3TazSrao6NWUFQ83cPgOXzR/hu0nTxv9pq2/qtKvjG61QMYqgLSgG5yZNt21u2n6wlbQJXA/84s3sOEdZP/ntycr6U3v2V3/oO40BSoP2jqpRX+WjGTfpCh/OVKqZRmbXxmrcWiVtTeu0r9J062Pp25/6q7L2kPaOWWsldw7Zh8uW21zjtK6aq9cR7aBS27k520l2ZYC6/5H0kyaPHTsmT69Bhn/PvYbgJvMnMDepl2WJtLPKe6+Zfv+3oj791jOzqLU2dki3ZcYUNbD6zNZXbJVJL0lbW1JFYf548MmGl1894ButUDEqI1tQsK7/Sd2W3x7ydRwVo/JKm8/cU/vgE5W+LhQp5+Sy5dykbJkN1IZVmjs0nPlT2bbVWp9fNH/p1s4sr63O2vmqblJlb/Wym+zP1NhaXwNhJrJEbtK+NNnU1KS3rO5Jk/aWFTcZMrjJ/AnMTfpeD4HLvYg0CliNBgUtZr99zJZGGb3ONVioffZWJu1t5bgWuCIyf/z992s+/J0G37mhgrUe3KTpI3fUf+g7x3zdR4WpXNLmcxvq73ossfdQ4taf13zw28cCVFvfnPShP6x8dMc5GTUValqnVq7VML6jakQFa2ZrNZ7b2lse7VADpagtSmpse7O1cpNaq23dJjrEyh3q0G4r7VAbWlnShrZKf23DbGlDyVdZpD793Wp70uSpU6fsSZPh/OcLWBXcZP4E5iZ9L4kSyc7BXu16bavsG0qsgaHXuQYLG0qyBwgp4yb9Q0PgWvP547P31n374frfbjvoOzFUjNaDm7R7k76Oo2IUwS9I+L4eIx+54Vct9c19HR0d9fX1f39Pva8LRUqDsA6qAdkWZexUY65OizZQZ4/nkrydtW/tm3PmT81srTb3uUk7hI322r+t1R5UsAZa69yk29aMrFW6zU12CGvjHKeT2zBA/d8HDrsvTdqTJlOpFP+ee63ATeZPYG7yA7c3hCOdQ3XrlAqvZLzjB7/t1dviIzvO2aLelarZB29vUI3qb3m03epNelWqfXZNKWTzx5p8b1ITwz1PnHyzriNMr79OFEFbUAxX+d6kr+OoGEUwbdygoRy4/9ftrWfHJyYmvCdNHqjxjWaByEZjw4Zx1cil2dqq1t9/qT17kBdqkzZzmWZatPYa1TXOuynApA1tE23r1vaPep9Taydu5J/OPF7KDmRrhRpot5Ibpl17rfKqlicaNcteDET3b969b9++Y8eO8aTJKICbzJ/A3OT7b6sPRzqH6pYpFV6pPK/yB2736vUeUa92K0tpN9ky9YHb6h95pU/Nbn6kza2S0m6y8nx2TSlk80fIblITww+eajvVNbomXv8q0gWycVnDt2QTQ7DKnplKpwjagmK4ym+6fR1HxSiCaaNBQ1f/h890diXTo9Ps7Kx70uQvXqjwnT8KR08tf2lSE4dejPakSc255TvClDW4yfwJzE2+79a6UuimzW066Ptv8xbb+ma1aOXN2zM2cXObLco7ulXWLG06l5tpP7bKpHeltja7MnDZ/BGam7SJ4Ux/evTxXR3fgLUmKthN6o2B79ZyLuEmC0Bpk+t5k76Or4ncXSWhTPCt9UltfDXRUQTTpnswdXZgTudw6dIlnc/MzIx70uQtP69+v96oo3D1qbuqdu7cefTo0VOnTp07d44nTa45uMn8CcxN/tWttSXS9sph79gZslfZz+7ETZtbsxdVkKpaJt93a+3D23tVc2OmgZPbp9pk1wcrmz/CcZOaGKRcV8c3sa2JcJPR5Cr/C8fX8TWR3KT7qFEpdHVDqe74aqKjaKaNLr25yfn5+ampqYGBAXvS5N99r9b3SQsKQV+5/5D70qSuxcTExMLCwtLSkq5RiSYOuDq4yfwJzE3+5S01yCebP8Jxk0auq+MbswKXu4Gk+d5qbFHY9w1Uk3aTmW8XqMZVtvZ5DwR2G978SJsL0COv9Mk9WFkFa+Dip7VWo71ZjXaS/W2HEimatqAY1ipt8lHaTWZ9KUVpYIv2pTfDVnkLma++KbtcnrjMWVtFM23s0tu/55Z3SSaTbW1tu/dX+04ehaMfbN79xhtv2L/nHh4enp6eVp7wpMk1BDeZP4G5yb+4uRr5ZPNH7N1kVUv6h43ZNW7Kl9RdK690k9pQBWvm1mpbZxNNqnFfe5WHuGW5rP7qr30v1mrkPHCTBbAmaZOnfG5SeeJyZmWN+uLqnZQS2XtYK0UzbXQCuvQammZnZ8fGxnp6ek6ePPn4CxW+L+2gcPTUczsOHz5sX5rMftKkXqHCu2YQIrjJ/AnMTf75TVXIJ5s/ouAmfWNWsEqOLm7e3ucWb9rcJv/nFs0yqtDWN6tJXQUtpqf/zIbeeWdQpW3rviZrUo197VV/fbFTjbbSnq2lTqN/bNHKpVM0bUExrEna5CkliaWNSdfa0kmV3tlnMsfWqmwFSYlna0X2HtZK0UwbnYBOw/49t07MLv3NP63ynTwKQZ+8o2LHjh2VlZX2pMnx8XF70mSpZw24CrjJ/AnOTd5YhXyy+QM3aZP9qm7SN83n4yZ9a7Ur3GSRlJGbVDJo0TLBfoFn6WRr1Rcr2G/vrOwSb20VwbSx667TsC9NDg4O2pMm/+bu6r+6pRaFrC//4MCePXtqa2vtSZOTk5M8aXLNwU3mTzBu8sCBA++9oRL5pLCYm1Sg1tZN+n4eFKxa+2Y1YWfXaMrfXjlsZXX34e29KqiNVVa1TNoPpCpbJmX+rJmTemHtnbQ3VzM99/s9m+xXVlaW81i5w8C1ftykr+NrIl1Td8WVQkoGFW7c3KpX0ftuS1eqxv2WTn2x39spK6ylVfpyZk0UWTcpv6LzsS9Npp80ub/G53JQOLrv4V32pMnTp0/bkybl8st9bCl3cJP5U6CbtO/ZjI6OanBsamo6ePDgdddXIJ8UlkQi0dPTs/ZucsXIFazcTyLaeme1eOPDrbYotlcMWxutsrLnJjOV8gpeOzORt3ju0LAaNVY5bQ4ye3bhsxpJe7Ya7T/tJpfPqkRaR25yRd/DV3aGZF/c1uWLrsq0m8xUWiaoRtnlNtSiS8I1VDTdpM5haWnJvjTZ29vb3Nz8+AsVvl8TonD01HOv8KTJqIGbzJ+i3KQGIOX9iRMn9Bp4/81v/tm3jqJsKSyalTVGy3YrXGvoJn3DFipG68dN+jqOilHU0kYXXbgnTeqsdG46w5t+UvGXN9egkPWJO47u2LHDnjRpX5pUkmjK0AtTl8m7ZhA6uMn8KdxNKtft7ezJkyePHDnyN3ce/NNvvYmcFBCFRVZbQ4MCJTcZwvep7eqsYgtWDF6oYK0jN7mi76hgRdBN6uhykwsLC/alyc7Ozrq6uk99t8r3bAoUgr503/7sf889OTk5Pz/PkybXHNxk/hTiJpXfynINiBMTE+fOnWttba2srPzhY6+955tHkNN3frbPfp2XTCbtjaaCVuo3mtiCEISbRAUomm5Sg5Jci31pUiP5rn2Vf3FTNQpf92161T1pcmhoaHp6Wi6fJ02uObjJ/CncTaZSKb1/0ruojo6O2travXv3fvLb+9/9jcNI+sTtb2zf+ZrC0tbWZv/SIJxf5+WyBb73wagYrR836es4KkYRdJO66PYp0+joqH1pcsvzR32POUPh6KnnXjl8+LBedyu/Zy+8awahg5vMnwLdpH0+ovdP9n9dE4mEXgkvvLTj47fve9d/HFrn+thtr9v3qTU0uH9pEM4bTe18dVuw4q0wKljryE2u6DsqWJFKGxvGddGznzSpYfyG/37T95gzFII+evuRnTt3VlZWnjx58ty5c77PsoR32SB0cJP5U6Cb1Dio0XA287NuZX9LS0tNTc2+ffteeumlWx763Udu3vMn/35wvem6b+5Xx2/+0Uu/+e3v9u7dW11drbDoHf/Y2JjGazd5lHRo0M5XtQW+98GoGK0fN+nrOCpGEXSTOoH5+Xm917UvTdbX13/yzgqf0UEh6Iv3vmFPmrTPsnjSZHTATeZPIW5SKMvdh93Dw8NdXV0nTpzQW6vXXnvt5Zdf/s1vfvPEE09s2bJl8+bNmzZt+nl82bhxozqobj722GNbt2595plnfve7tJU8evSo5mPNyhqmp6amFCh7o1nqycMuzSq2YMX4hQrWOnKTK/qOClbU3KSuuPyKzkRjuH1pcvcbVe+9sRKFrw2bdr7xxhtKj9OnT7vPssp9VIkHuMn8uWY3KTQSKcs1Etn0Mz4+rsFIL4OmpqaqqvSguWvXLnnKF1988dlnn5WzfHqZX8cL65Q6+Nxzz73wwgvq8quvpr9JLVedSCQ6OjoUFns2kAIVwsfcIpct8A1eqBitHzfp6zgqRlFzkzq63uLag956enrSX5r87Zu+/7+AwtGTz24/dOjQiRMnlB6aMvQyVHroJYmbXHNwk/lTiJsUynLlugaj+fn5mZkZvQDMUGpIqq+vr6hIP7h73759e/bs2b17tzyWsTNeWKfUwb17977++uvq8tGjR+vq6jQodHZ2njt3ThOz3mXagx4ULo3gwotgadD+V7cFK8YvVLDWkZtc0XdUsCKVNjqujn7x4kWN3nbFdW7X//eb191QgULWR24/vGPHDk2aLS0t7kmTbsrwLhisEbjJ/CnQTSrL3Xhk37yRoezv7+/u7m5vbz958mQikWhoaKitra2urq7KUBk7rF/qoLopD60uy0yr+5ow5K3NSqZSKftpnsIVwtCQyxb4xi9UjNaPm/R1HBWj6KSNjd6XMr+knJycHBoa6ujo0Nvgj99x1P6JFwpTX7gnfdulpqZGV0Fz6NTUlKbUcD7Lgv8nuMn8KdBNChuSNCDaHUrNQxMTE5qKBgYG9AZLg2ZXV1dnZ6deIW3xRd5RHVQ31Vk5aXVc3ddsoVDYf1kN00oKbEEIwk2iAhQpN6nLbeP2+Pi4HExLS8uuN6r+7PqjKHzdu3Hnvn37Ghoa9Lqzf88dzgNAIB9wk/lTrJvUqKQx0e5Qzs7OTk9Py0iNjo4ODw8PDg7KWmmoSi5zLi54/cmgDqqb6qy6rJlYo7OCoFCYldSgoBApVuGMCzrK6rZgxRtiVLDWkZtc0XdUsCKSNrrWOqgN2joNjdX2pMnHfvumz+WgcPTk8uPkdCH06rPv2esCpecM3ORag5vMn8LdpLCBycYm2SYNT3pTlUql9HrQtKT3WFPLTMYU653sozqrLqvj6r6C4HykghPmoKADrWoLfOMXKkbrx036Oo6KUdTcpIYpjVd6D6xTSiQS3/qvI77/DYtC0IdvObBz586KioqTJ08mk8mxsTHlhqYPvR5DmzXgKuAm86coNymU8TY8KfvNUy4tLenFoLFSo9V8BhmsGGN9VGeFem0+UqEI30oKHWt1W/CtoygorSM3uaLvqGBFyk1qjNKopffAAwMDnZl/z/2xb+Mm10D//P3X7UuTbW1tg4ODk8v/nhs3GRFwk/lTrJs0lPc2SOk1IDRKCg1Yhl4bccXrYQbrtUVAoRAWFi9GoaDD6egrbYFvCEPFaP24SV/HUTGKjpvUtdbYpXOQdzl37lzm33NXveebR1D4uufnO954441jx46dPn1aiTHNv+eOGLjJ/AnGTRrK/mzSfmr94XU+gxeXENFBsQWlFm4SFaCIpI2OqGt98eLF2dnZ8fHxnp6ekydPPvqc3+WgcPTks+kvTTY1NSkxfP81zbtgsKbgJvMnSDfpyFip9YsXhbVAR1/VFviGMFSM1o+b9HUcFaPouEkdV0efyTwn2K71N//z8Hu+cQSFrA8tf2ny1KlTfX19ExMTsvhLfMwdJXCT+VMSNwlrBbYgBOEmUQGKjpu8lHnS5NTU1PDwcGdnZ0NDw0duP/TubxxGIeufv/+a/Xtue9KkPZ+Yj7kjBW4yf3CTsWJVW3DgwAHfKIaKkWxBIpGIvZskbYJVFNLGLrT8yvz8/OTk5ODgYHt7+94DNb5TReFow6ad9h5Dr7ihoSG9+uTyLStwkxEBN5k/uMlYkW0LRkdHNXU1NTVhC4KV4hljN0nalEhRSBu70EtLS6lUamJiYmBgoLW19Zf/U/mu/ziEwtfTz+88cuTIiRMn7EmTlhW6QFjJ6ICbzB/cZKyw2cK+Yi9b0N3draHq0CE+xgpSBw8ePH78uGLrJoB4uEnSpqSKQtpku0n7Lzhykzf8f0d9LgeFoA/dcuC1116zZwPpQuhyzGf+4QVuMlLgJvMHNxkrsm3B2NhYT09Pc3Oz3v76BjJUjOx2gmIr4yVbYBNAbNwkaVMiRSFtst2k3Ztsb2//6O2H/+TfD6KQ9cUNbyglEolEV1fX8PDw1NSU3mDwpcmogZvMH9xkrHC2QNOV3uz29va2tLRUVFT4JjZUjOwfV/T19cl4aVaOk5skbUqnKKSNz00ODg52dnY2NjbK1rz66qsvvPDCU089tWXLlkceeWTjxo0///nPf/azn/20PLnhgZdM3vIaoQAKRVLxfPjhhx977LEnnnjiueee2759+/79++vq6lpbWy0lLly4oJTgS5NRAzeZP7jJWKFhSIORmy2SyWRHR4fGLN/bYlSMamtr7cMpRTgeH06RNiEoCmmjw+mg9iuc6enp8+fPd3d3nzp1Stf60KFDu3fv3rZtmzyl7M4zzzzz9NNP/7psMQcgectriiKpeD777LOK7e9+97tdu3YdOHCgpqZG7y7Onj07NDQ0NTWll56ui6VEyFkBVwE3mT+4yVihYUi2wGYLjVCDg4NnzpxJJBJHjhzREKax7Mknn3z88cc3b968adMme98svPfRkIVFZuPGjYrVli1bnnrqqeeff14xdB9OaQ6YnJxcWFiQCYuHmyRtisciE9m00eHMTS5mfnFlX508ffp0c3NzfX390aNH5XJeey392Bqd86vljHOT3vKaomAKRfX1119XhCsqKhRtWUm9ygYGBnQVZmdn3fdoy3okiR+4yfzBTcYKZws0XWm2GBkZ6evra21t1eB1+PBhDWfbtm178cUX9S653O89hIDdUXjuuedkp7Zv367oyRM0NDTYh1Ojo6MzMzPx+KoTaRMgUU4bu9ByLRcvXkylUtPT07rWyWRStkan19TUdOzYsdra2pqamqqqqspyxrnJCq9iLVEwhaJaV1enCMu7t7W1nT17VlbS8kHv4uzdRbmPJPEDN5k/uMlY4ZstJicnh4eHu7u7W1paNIppXDt06NC+ffs0w+3evdt74ww52LVrl6K0d+9eRUxxU/QUQ0VS8bQ7THNzc5oDYnBHgbQJkCinjQ4n3O1JM5QyNDqxc+fO6Qy7uro6Ojra29tld4QsZpni3GSLV7GWWDAV1c7OTkW4p6dHDl4vsYmJCWclYzCMxBLcZP7gJmNF9mxh95nGx8cHBwc1T2gs03vixsbG+vr66urqcr/3EA7ujoLipugphoqk4qmoKraKsOJsn1cK7xqUIXb+pE1QRDltdES5Fh1dDsYMpQyNPK485fnz52UrBwYG+vv7ZXfKGucmz3kVa4xCKpQDivDIyIgyYWpqanZ2VlZSb+FkJWMwjMQS3GT+4Cbjhs0WGp40W2io0uyld8B6H6wRTe+J9c5Y74/tvbL3xhmuiqxAR0eH4iZDoBgqkuYJbBrQHBCPOwqkTbBENm10UHetZWp1Mjqlubk5ndv09LQsjpyloQQoX5ybHPcq1hgLqcKrICvU5iPl5u2uZGyGkfiBm8wf3GQM0aik4UmDlKaKhYUFjVwawjSZ6T2xZjW9P7bbD5APipUiprjZHQVFMvuOgs0B8ZgGSJsAiXLa2KF1Dna55SntPqUuuqHzLHecm0ylvJooYOFVqJUGPh8pvMsDUQI3mT+4yRiSPVXYPJFKpTSZzczM2L0H7/0y5IHdVJAbUPQUQ0VS84GbCeI0DZA2ARLxtLET0OV2V1ye0tBJxgDnJjO2LSp4Ib50ydLA4m/XwrswEDFwk/mDm4wnNkJlTxUay/SGOPsOBOSPu52QPRNYkL2IxwLrEWkTFBFPGzsTQycWJ5ybXPZsEcKLeAbvSkBUwU3mD24ytthopcFLc5gzB4amN8gTL2QZzBAINyV4sY4R1i/Spki8kGVYD2kTNZybJNhQDLjJ/MFNxhmbuhyazKBIvFBm8KIcO7zuLeP1HIrAC2UGL8pQSnCTEAi4yfzBTQIAQKzATUIg4CbzBzcJAACxAjcJgYCbzB/cJAAAxArcJAQCbjJ/cJMAABArcJMQCLjJ/MFNAgBArMBNQiDgJvMHNwkAALECNwmBgJvMH9wkAADECtwkBAJuMn9wkwAAECtwkxAIuMn8wU0CAECswE1CIOAm8wc3CQAAsQI3CYGAm8wf3CQAAMQK3CQEAm4yf3CTAAAQK3CTEAi4yfzBTQIAQKzATUIg4CbzBzcJAACxAjcJgYCbzB/cJAAAxArcJAQCbjJ/cJMAABArcJMQCLjJ/MFNAgBArMBNQiDgJvMHNwkAALECNwmBgJvMH9wkAADECtwkBAJuMn9wkwAAECtwkxAIuMn8wU0CAECswE1CIOAm8wc3CQAAsQI3CYGAm8wf3CQAAMQK3CQEAm4yf3CTAAAQK3CTEAi4yfzBTQIAQKzATUIg4CbzBzcJAACxAjcJgYCbzB/cJAAAxArcJAQCbjJ/cJMAABArcJMQCLjJ/MFNAgBArMBNQiDgJvMHNwkAALECNwmBgJvMH9wkAADECtwkFEz3YMrlz0qdPDvjtYM/BDcJAACxws39uEkogB8+0+lSKFt3/aLVawErwE0CAECscNM/bhIKINftSW5MXgXcJAAAxAo3/eMmoTBW3p7kxuTVwU0CAECscA4ANxlN3snwdhZvRYwz/bMui0wnuqa8dZHBi93bb1s8hRfftQA3CQAAscI5ANxk1DDTYx5IfujyMpeix/2/bneJdOfjLV5txLDombO02Aov1uGCmwQAgFjhTABuMlKY1zEfKSe0tLR08eLFhQzzGVJRovXs+CeWE6mhdcSrjQYWLgvd4uKiIql4uruVa2IocZMAABArcJMRxKyk3Y+U+5EHkh+anZ2dmZmZnp6empqazDARJe7dekpZdPsjJ7zlCGBREoqY4qboKYbyl+Yp7T6lhdqLe1jgJgEAIFbgJqOG+Zu3335bdsfuR8oDyQzJHo2MjAwPDw8ODg4MDPRHjJrj3cqig7VnvOVooEAJRUxxU/TGx8cVScVTUTVDuSa3J3GTAAAQK3CTUcNZSdmd+fn5CxcuyAN9/ceJ6Ouf72vw1URTY+PjMzMziq3MuvsapRf9UMBNAgBArMBNRg05G/uu5MLCgqzkxMTE4ODg1x9KfA0FpIHBQRl0xVYRdp93e9EPBdwkAADECtxkpJCtEfYZ99zcnKzk0NBQd3f3vz2UQEHpzNmziurk5KQivCafd+MmAQAgVuAmI4U8jZyNuzE5MjLS19fX2tr61R8lUFBqaW3t7e1VbGdmZhYXFxVt3CQAAEDh4CYjhblJ+8bk1NTU4ODgmTNnjh8//pUHEygoKZ5dXV1DQ0OKsP0cJ+QPu3GTAAAQK3CTkcK5yVQqNTExkUwm29vba2trfX4IFSPFs62trb+/XxGWa8dNAgAAFAVuMlLI08jZ2Jcmx8fHe3t7W1paKioq/vXBBApKiuepU6f6+vrGxsbk2u2X3bhJAACAAsFNRgrnJmdnZ+V1enp6mpubjxw58uUfJlBQUjxPnDih2I6OjuImAQAAigU3GSnMTS4uLl64cEFe5+zZs01NTQcPHvzSAwkUlBTP48ePd3d3j4yMzM3NKdqK+dtvv+1dg9KDmwQAgFiBm4wU2W5SXsfc5IEDB774QAIFJcUzkUgotufPnzc3aQ8J8q5B6cFNAgBArMBNRoTzk4v663OT9oPu/fv3f+GBBApKimdjYyNuEgAAIBhwkxHhl7t6v/KfiTeOnV/VTf7L/QkUlHCTAAAAQYKbjAhyk3Yh5Cn31g743OQ//yCBghJuEgAAIEhwkxHBuUnTlx86tu2wzKTnJv/pBwkUlHCTAAAAQeLsy+fva0BrK3ctnL7ww7qt2xrkfv7xvgQKSrhJAACAIPHZFxRB/euDVZ/f0PgP9yVQIMJNAgAABInPuKBI6bP31j3yQsOuvfs/vyGBghJuEgAAIEjmFi6jKOhnL53J9pGf21D/7GunT7aetu9Nfm5DAgUl3CQAAADEEPcrnM/f1/DykeTw6FT2b7o/d28jCkq4SQAAAIghcpPyka9UDM7MXZS/8T0h6LP3NqKghJsEAACAGNI9mJpbuJzrf+F85p5GFJRwkwAAABBbcrnJv7+nEQUl3CQAAADEllxu8m+/34iCEm4SAAAAYgtuMgThJgEAACC25HKTf/O9RhSUcJMAAAAQW3K5yU/f3YiCEm4SAAAAYksuN/mpuxtRUMJNAgAAQGzJ5SY/eXcjCkq4SQAAAIgtudzkJ77biIISbhIAAABiSy43+fG7GlFQwk0CAABAbMnlJj92VyMKSrhJAAAAiC253ORH72wskV6tHm0/N+erLECPv5ocHF/82B9WqkfZixERbhIAAABiSy43+ZE7G/NRbdu0t6MrV8wj+hqYatqm1dLK5ibdqoK15dXkwPiijqiCjm6VrlCwdHoXUpd9lUUKNwkAAACxJZeb/Os7GvORPKKsoZVn5i7vrB51q7JlbtLKauM2KUaP7UwOjC1+5A8r1aPsxYgINwkAAACxJZeb/PAdjflINlHW0Mpt5+a0KMnkWY0M34XUZdV4B7tyRTXmJlWvRf2V2bLG1VnN3ObalZRd6WRrtfltWzq1H6tUM3c4HcgqtVZHtFWqtLVCiysb2G6t3jV25+lqXJt89AZuEgAAIBcfv7MGxU83/aTyQ99pzEc1rWk3aeV33rmyo2r01sc6lRhWo1VqoEJ167QKH85Uqo0aqJnK8mRatEo5NhUktbTyozvTH2Hrr8puV06qT1u67zRqV25btbcD2bZWaWbRyk7Z52kN7PRst9kFSadnDWbmLtuZX5NwkwAAADnxuRAUD12Tm/RSYdnGqdJ5RFWa9/K5SeftVGn1befmbBOTNtRf5xdVzt7KlMtNugZyfmqjgtZmW0DVp083g9VkN3AmMrtrwo6l81T5Wg0lbhIAACAnPheC4iG5yQ9++1g+qmmdauub81XuqBqR93p0xzn9tZrq1im1/NDyWreJKq2+tU9ucsQqJaWW/toeVm5lcmtvebRDdtAqbUNT2k3uOKeC1qqNVepA2o/t0zXObuBOe9WumdTeHTEf4SYBAABy4vzHO+94NVBe5PrepM8P5VIuy6U9y5M5gyg36Tzcqm5Slc6fqcb8XGFu0naotSpbZbZZlJt0R1y1gXOT2XtYqausWincJAAAQE5wk+VOLjf5gdsb8pHZRF+lpErt3C3e8mi7JcgjO869kvGFVq/NpQ9myvJ5mSZXZlKXba0ap41dppy9lW+tdu42UcEOLdTAVaqNld2ZqDJ7K9fAdmtlnVumbRo7T5fnWrQ2+Qg3CQAAkBPcZLlTpJvMJZmtVV3m+hRuEgAAICe4yXKnRG5Se3a3BhFuEgAAICe4yXInl5t8/231KCjhJgEAAHKCmyx3cJMhCDcJAACQE9xkuZPLTb7v1joUlHCTAAAAOcFNlju4yRCEmwQAAMgJbrLcyeUm/+rWWhSUcJMAAAA5wU2WOznd5C21KCjhJgEAAHKCmyx3crnJv7ylBgUl3CQAAEBOcJPlTk43eXMNCkq4SQAAgJzgJssd3GQIwk0CAADkBDdZ7uRyk39xczUKSrhJAACAnOAmy52cbvKmahSUcJMAAAA5wU2WO7nc5J/fVIWCEm4SAAAgJ7jJcienm7yxCgUl3CQAAEBOcJPlTi43+d4bK1FQwk0CAADkBDdZ7uR0kzdUoqCEmwQAAMgJbrLcyeUmr7uhAgUl3CQAAEBOcJPlDm4yBOEmAQAAcoKbLHdyusnrK1BQwk0CAADkBDdZ7uRyk392/VEUlHCTAAAAOcFNljs53eS3jqKghJsEAADICW6y3MnlJv/0W2+ioISbBAAAyAlustzBTYYg3CQAAEBOcJPlTi43+Z5vHkFBCTcJAACQE9xkuYObDEG4SQAAgJzgJsudVd3kgQMH3v2NwygoyU0mEgncJAAAwCrgJsudbDc5Ojoqx9PU1ISbDFb7DxzATQIAAKwObrLcMTd58eLF2dlZucnu7u4TJ04cOnTI54dQMTpw8ODx48cV25GREdwkAADAH4CbLHey3eTY2FhPT09zc/ORI0fe/R+H3oUC0uEjR+TRFVv5dblJRVsxx00CAACkwU2WO85NyuWMj4/39va2tLRUVFTgJgPU0YqKkydP9vX1ya+nUincJAAAwO/BTZY7cpOyNUtLS3I5ExMTyWSyo6Ojrq7uXf9+8E9QQKqprW1ra+vv71eE5+fnzU0q8t41KD24SQAAiC64yXLH3OSlS5fkcqampgYHB8+cOZNIJI4cObJr164XXnjhySeffPzxxzdv3rxp06afLfNTWIFFZuPGjYrVli1bnnrqqeeff14xVCQVz66urqGhocnJyYWFBXl33CQAAIAHbrLccW5SLsceEtTX19fa2lpfX3/48OE9e/Zs27btxRdffPbZZ5955pmnn37615AbxUdReu655+TCt2/frujJSjY0NCieiuro6OjMzMzi4qKirZjjJgEAANLgJssdc5OXL1++ePFiKpWanJwcHh7u7u5uaWk5duxYZWXloUOH9u3bJ2O0e/fuV+Gq7Nq1S1Hau3evIqa4KXqKoSKpeNqNybm5uaWlJftBN24SAAAgDW6y3JGnEW+99Za7PTk+Pj44OCgD1N7e3tzc3NjYWF9fX11dXVVVJXsEV0dRqqmpqaurU9wUPcVQkVQ8FVXFVhFWnO1jbuFdg9KDmwQAgOiCm4wBsjV2e3JpaWl+fl6mZ2JiYnh4OJlM9vT0dHV1dXZ2tmVohTyQg+zo6FDc5CMVQ0XSrKT7/U3INyYFbhIAAKJF92Dql7t6Tc5Nuhqt9dpB+SBzI5djn3cvLCzMzs5OT0/LA42MjMgMDQ4ODgwM9EN+KFaKmOKm6CmGiqTiaVbSfcaNmwQAgHXN3MLlr/xnwvnIbH3+vgat9dpB+SBzI5djhnJpaWlxcTGVSskDzczMTE1NTU5OTkDeKFxCJlLRUwwVSfsdt2Ib/mfcBm4SAAAix/7GEZ+PNP32QL/XAsoNcznOU166dEkG6OLFi3KWMkNwrShuip5iqEiaj1yTu5IGbhIAACLHqrcnuTFZ7pjXMUPpPKUhVwR54oUsg/lIsYZWUuAmAQAgiqy8PcmNyRhgjschDwRF4oUygxfl0MFNxhnLLS/dMtg7GLgmvNhlvWK9+MYX66bX7QxeLOBa8GJXhpljZ+udfQavS+EyM3cx+/bk5+9rUI23rhzwYreehg5Yt+Am44mNXDaQaVC7vIx3ZxyuEYueTQ8WW+HFOl5Y18icoLDolVHm2BlGJwFerx9ybvI3+/q82vLBorcehg5Y5+AmY4gNWDYZaDhbynzN2b60O58hBflh4bLQLS4u2rdVbGKwucGLeFwgc4LCwmWhK6PMiWACjE5c+NcfN8pKfm5D/cjEBa828li4LHTrYegAwE3GDZsPNGzpDbGGMA1kGtTsKQzT09P2IAbhPWYAcmBREopY9lMYbGKwmw0Wai/u5Y91h8wpEouSKLvMsbOKYAK88ma33OTWV097y9HGoiTWz9ABIHCTscIGKb331ZhlNxU0kGlE0xjHE2KvFQVq1SfEKqo2K8TpHgOZEyDlmDlRToDTZ8/9x08a9ddbjjzlmAAARYKbjBVuPtCYNZ/571UayL7+4wQKSornzMyMYqsZ963l70J50S9nyJxSK+KZE/EE+LeHGn01ZaexmA4dAAZuMlZoeNI4dWn5P+tPTEzo/fHXHkqgoKR4apZVbBVhTb32oZUX/XKGzCm1Ip45qybA11f0AhWsgZgOHQAGbjI+aGwSGqf03ndubk7zwdDQUHd39789pHf2KBidPXtWUZ2cnFSEY/OhFZkTgqKcOSRACDoTx6EDwIGbjA8amDQ8ubsLIyMjfX19ra2tX/1RAgUlxbO3t1exnZmZWVxcVLTj4SbJnFIryplDAoSgljgOHQAO3GR8sCnBvvY0NTU1ODh45syZ48ePf+XBBApKimdXV9fQ0JAirKlX0Y7BJ1ZkTgiKcuaQACEolkMHgAM3GR/clJBKpSYmJpLJZHt7e21trW9QQ8VI8Wxra+vv71eENfXGY0ogc0JQlDOHBAhBsRw6ABy4yfiggUnDk33zaXx8vLe3t6WlpaKi4l8fTKCgpHieOnWqr69vbGxMU6/9PLPcpwQyJwRFOXNIgBAUy6EDwIGbjA9uSpidndWA1dPT09zcfOTIkS//MIGCkuJ54sQJxXZ0dDR+bpLMKZ2inDkkQAiK5dAB4MBNxgebEhYXFy9cuKAB6+zZs01NTQcPHvzSAwkUlBTP48ePd3d3j4yMzM3NKdqK+dtvv+1dg/KEzAlBUc4cEiAExXLoAHDgJuND9pSgAcumhAMHDnzxgQQKSopnIpF+2sv58+dtSrAnfXjXoDwhc0JQlDOHBAhBsRw6ABy4yfjgmxLsV5n79+//wgMJFJQUz8bGxni7STKnFIpy5pAAISiWQweAAzcZH3JNCf9yfwIFpVhOCWROCIpy5pAAISiWQweAAzcZH3JNCf/8gwQKSrGcEsicEBTlzCEBQlAshw4AR2BuUuORoZeHoeFpPeD1NoMXgjX6mZ6Oq/NZOSX80w8SKCjFckogc0JQlDOHBAhBsRw6ABwBuMm0e1o2kWl79dZbepGIS+sG66/1XUGwgHjRCREdVCewckr4x/sSKCjFckogc0JQlDOHBAhBsRw6ABxFucm0acr4SI1EemHIVy0tLelFspBhPkMq1lgfrb/quLpv5tLZSi9SoaDDrTol/MN9CRSUYjklkDkhKMqZQwKEoFgOHQCOwt2k+UhhPvLixYtyVDJYs7OzMzMz09PTU1NTk8tMxBHrmrqpzqrL6ri6ryAoFAqIM5TCC1mJ0YFWnRI+vyGBglIspwQyJwRFOXMCT4BjHdPerq9c8a1aE71ePzo7f9lXeRVdSF3e8GSnr7JIxXLoAHAU6CbTFikzAOn1YD5SLw85KrmrsbExvVqGh4cHBwcHMvTHFOudujk0NKQuq+PqvoKgUCggS0tLNlhYrLzAlRK7IiunhM9tSKCgFMspgcwJQVHOnGAToLM/ZdZN5af2Jk/3p7LXloXkJu99stNXWaRiOXQAOApxk2lzlLkxabckU6mULNTExERfcvhAzZnvP958w0+Of+3HiXUldfm/f3Nq15tdGikUCgVkfn5ewdF4oWHaIuaFr2ToEKtPCfc2oqAUyymBzAlBUc6cYBNAQ92GX3X6KiXvYFeuHOuYtpqhiUV3F1OF0/1zVr43s7n+ypW6Su3TxlBtZZtrldtVZ//ca3WjKuiv6rWhWqZNbWatTK3byh3R1mpDWxRqpga2rVDBNrFFYQ0KUyyHDgBHgW5SrwG9EuSW5JnknMbGxrp7B/7rmVNffSixznX3lmaFQgFRWOSzs+9QeuErGbmmhM/e24iCUiynBDInBEU5cwJMgCf3Js2E+epVKZ9nZY2FVpbDU70K2kqnIReoDRsytlKV9/yqU5Uyfyqb51MzlbWJFcxNqmANbJ/6q5baVuXBiUWrVHsdywp2xJVSS2sjXUhdtj1Iau/K2vPnNnjtr1WxHDoAHNfsJs1KauiRTzIrOTo62nX23I9/ffIrDyaQdNejJ5LJpMIyPT2tEClQCpfiJrwglgbtf9Up4TP3NKKgFMspgcwJQVHOnAAT4Mk9Gbv2h5X3bE3fZXSL8otygSoMjS+qvVXqNGS5VFCN6lXI3kpW73RyznarghatYPuROpcrraVVugO5fWrRbWLSUSwIwtpIaTe5tdO31rg3U1+AYjl0ADgKdJN6GdjQMzEx0d/f/7s3Wr/8wwRyemlfi8IyNjY2OzvrRo21cpN/f08jCkqxnBLInBAU5cwJMAG+vzX9ebRMmK9SvtAt1ndMy+epIPf2qz1Jq9RpfObedEE1qlche6u9yx5RZRW0aAXbjyQ3aZXW0irdgdw+teg2Mck42oaujVXq6Cror07MKotULIcOAMe1uUkNOjbu2I3Jqamp4eFhDT33b23y/Yf7da6v/Wf6v/sPDg4qRPZ5t4Km0HlxLA12aVZOCX/7/UYUlGI5JZA5ISjKmRNsAnQk52TL/i5Tvntrp3yeCvKFe2pHrYEGwq17kiqomRUkncbf3ZMuqEb1KmhbbWVrta32Y/tUwXbV0D5tB1JLja1WaS1tq/r2abVRwe1Ta90+TTKOdg7aytpkV0rZZ16MYjl0ADgKcZN6DVy8eHF2dnZsbCyZTLa0tHzzvxNfuB/9Xv/3R42tra29vb0KkQbocAaOYKeEqEkd9NWsiWI5JcQ7cwqWjIjzJcUrypkTeAIMji96u15+2crwecvLtk8q0k1KtkM1c5XW0taudJOS1rqttEO1t0U1cG20oTVQOfvMbRNrc62K5dAB4LhmN6nsv3Tp0sLCwszMzPDwsF4bGnd8/5AUSQpLV1eXQjQ9Pa1wKWgKnQLohbIE5JoS/uZ7jeHr7ie8H2AavrUFyO2kIzNtuPqQFcspIZzMyc59zehWaXnyvSc6XbNgJX8gZ+CrzFMX5i9v3Z30VRasKGdOpIaOuCqWQweAoxA36T7m7u/v7+zsrKur8/0LKSQpLO3t7YODg5OTk6lUyp5nviZu8tN3N4av7/4y7RI0hqpc1z49OL6YvbYAqYNWkJvcXTvq6kNWLKeEcDJHuX/3LzutLKMmQ+lWRVBP7E7qJH2VxSjKmROpoSOuiuXQAeC4ZjepQefixYt6MaQfMNnX19raWllZ6R73j5wUllOnTiWTyfHxcYUrhK9O5poSPnV3Y/i6K+MmP/29dPmXmYnZ6lX2TjdrrS1aG2uswdfKsqG2oRror6ykNRY6hK0KU7GcEsLJHOW+3mNYWddOx7UrqHrLBPfxqN4tWBv3alEmWGLY5pYYliSqdG206D7HrG+ftkXbm+T277bVKjWwPbisM2lz20NQinLmRGroiKtiOXQAOAp3kzJJvb29Mkxvvvlm9lO1kElhaW5uluG2X3avoZv85N2N4evOjBX41PfS5fbknFygVWrOtgbOKeqvylZp9WYaXBurVwetoL3JBFg5fMVySggnc5T7MohuUVfZrrvqlSfZ19rXwGSJ4cqWPMoESy2TJZglj8nuZFtBslUD44u2lVap+9rKKrPzSvux+qAU5cyJ1NARV8Vy6ABwFOgm7Sc43d3dMkyHDh3yPQoBSQqLRuSenp7R0VGFS0HT2LEmbvIT320MX3f84vc3ljrOzVnlrhrvC+9G2hx8t7GuLf2F91/sSlobFazeyjINVq82Vmg/N6f9WDl8xXJKCCdzlPt3/qLTLeoq20VXveZaFXQm7nIrf1wamCwxXDltPTPNtJVLMEltsjfUKssWVaqxVbq80iq3bW3btFLR1yBARTlzIjV0xFWxHDoAHIW4SRt0ZJL0wmhqajp48KDvx2tIUlgSiYQMt0ZnhWsN3eTH72oMX3c8nnaTGkNVVqd/8WpSBU3emqRdm2ypXl1QQS3TpiFTqbJrb2slc5NWDl+xnBLCyZy0m3y808pKDx1Xf63e8kTSFVe9XJ1WuTRwq1Tjymm3t7xK+aCtXFZY7skmqmxuUoW0m1w+ussrrbJmkrlJK7utAlSUMydSQ0dcFcuhA8BRuJvUoGNu8sCBA5/+XmNZyL4j5asskRQWc5MaO9bWTX7srsbw9Z3MjP7x76bLNW3pX+FYpc5Tf12zbOnSaJVtqIlfNdrKNpS0oRXkJjXxWzl8xXJKCCdzlPt2WSVdazk2V295Yno14/BU0Ik9/mrS1WcnjyWGZmi3VimRnRXa0DJHu9IOrSDZJgPji9bYHUtSlro96EBWCFBRzpxIDR1xVSyHDgBHUW7SBh3Zpk9+tzEE/XLX73/AYWgm+NSKZleR2msa81WWSAqLxo5V3eTcwuXuwZR1IUByTQkfvbMxfH07Ywo1htqiTk8TvAqvVv/+w275wo/dmX5QsFu0xm3nvB9SaHaXJ3B7sIL2Y2t1CKsJU1eZEkp0WUMgnMzJfielK5tdrzzJTgy7su5CC0seZYgtWmIoeWQBrUbk2kR7VkHKzjRtqxqtcllnbtJXGaCinDmRGjoKkwYNd6ELU3aqlEJXSQCAGBCAm9SLxH01pKSyz7Pcl58KkLlJX2WJZGOHz03Ozl/67YH+z9/XoL8W0gDJdXU+cmcjCkqrTgkXUkulu6whQOZkq398ccurSV9l8Ypy5qx5AsjJmYP31ecvc5Mq2K6yV+Upc5O+ygC1agLgJiE2BOMm3c38kurVjJvM9TlpPjI36asskWzscG5yYjr17BvnNG18/M4aKUw3+dd3NKKg5JsSQrisIUDmON2+pXMmddlXGYiinDkxSAC5yZ3Vo77Ka5LcZJF7uLp8CYCbhJgRjJv8yB2NIUhvHHUOGu5X1l9IXd6y8/cfcmWvdR+bDowtarxQy+y1pZONHXKTPeeGntpz1k0bpZs8cl2dD9/RiIKSmxJ0WX+9t/tzG+pLfVlDgMwJQVHOnDAT4LYt6e/A/PWd3qKOrpqatmlJluux5WFcA7XWatEKVtYYroLaWxuhGm2lSnOTKtiuVNAqr1Fm1lCNGtii9mlbSTNzv//+g+2hRHoDNwmxJhg3+eHvNIagnVXpseC2xzpXrU8POplFDSLpQSdTrm5Nf63KNqnJlF2zUkthqaw59shLJz97b132tFFKVX/sjqqP3v7mX9964EM37nnfv//uz7/y9Hv+cdOHvtOIgtJaXNY108furPV1HxWseGROICkhA/fozqQKO6pGNVaroMFZ0rDZP7Zoq0wqa8R2ZWucLa219nKT2psKtivXwA6hPWdvrkp5R1VqKxVUc+tjaYdqeyiRcJMQb4Jxk76XTYmkl7p3Hstk1/uaWVnDVvbIYvcm3WJJtWvv/s/cU+sbi0ss3GTJtRaXdc2EmwxQ8cicQFJCb/LNw+mvGTjnJu39vzOUudykNkxPABmu4iblEd+5cuXDd6TLqvQ2yGAW0/layZ1MiYSbhHgTjJv84LePhaAdVSM6h1se7Vi13rdozd55R283R9yqtr60m3SLJZXCorHjVztO+YbjUmp1N+k7MVSM1uKyrpk+emetr/uoYMUjcwJJCQ3OMnkquHG7pnVK+tByA1k9W/XojnNuxFZZ9SpoSHeVqlG9Cq198oLpod52ZWv7Rxfd+K9Kjf9Wdkq7yczmktZmTxaBCzcJ8SYYN/mB2xtC0CueTWxftd63aM3kJrXoVmm8mElddosllU0e9iucFw/0+AblML836RvUUDGyy2pTwv8c7A3hsoYAmROCopw54SeAfJ6MoLN3PjcpyS/KdEo6Pbs1YJuoIM9nBVuby02afXT7VDM1trKTtrJzsF3hJgEKJhg3+f7b6kPQK5XndQ43P9K2ar1v0ZpNz12ubplyq8xNusWSyiaP7CcEbT86UNLJY229fiB6xG4/rKiPjrI9gU0Jpb6sIVDumaMX9co3mVFTlDMn/ASw9/x6vdtideuUpBe+Rmw7JY3VtkoFq1EDDQ5WqStulaqxncgX2o0D21V2G2FtVO8tZ/Zm44w9BlWNVZN96yFw4SYh3gTjJt93a10IMpt40+a2Vet9i9astW/WrZKtVFmjhi2WWjZ5+J43qQDuqBwq0eSxDt2kPIQuqK+ypFrpCWxKKN1lDYEoZI4uvc7EfMC1SjmQp5v07kWtqA9BUc6cGAwd0RduEuJNMG7yr26tDUEPb+/1zmOZ/rHF991au71yWGXXzBZv3Nxqi8lR7zkRbX2zWqWJx7UsqWzyWOkm7WTC/F84vkEtyipfN2mXIGb/C8fX95LKfF5hVzN/N7mGinLm4CZDEG4S4k0wbvIvb6lBPtnkkctNloJcV8f3EXzppEndbgyL6papD2Qq+0fT345Sjf5q0e4QGx+43dvQVapN+sOs2+pvfqRNkbK1KmvPVnb7F6r3Sva5WKZBqXV1T1CmrHnmSHpl6K8u9COv9FmNrrX5S53hqgngckxrlQxaVPJYM+3ENslOLS1WtUzZVmpg9W7PpVaUMycKCRB74SYh3gTjJv/i5mrkk00e681N2pxtPu+WzFdX7bvz1kBWwE3emtdVlqG0ed0q1fIqbtIqnQfNXhWaouwJCmbNM0eJYUkiq2cpZJU6N8sirdWi1Zuyk0E5oEVJ7W1ta9+cdqWCqzE5N6m0dLY1HEU5c3CTIQg3CfEmGDf55zdVIZ9s8oiCm/R9obN00qTuvtXan5n+VUiOLm7e3meVbX2zVmnK3I5Kf59V9Vajltrw/bfWaT+KlFWqrD2roG3VUmutPntVaIqyJyiYNc8cJYklhi6ozscqsy+3kkSyel1xO22h/LEaSzyXdUqtm5dr1EwFk7lJ7VMF1bvMDEFRzpw1T4D1INwkxJuA3OSNVcgnmzxwk7jJ6LO2mWPXOhtLkuzL7dykaly2WP6o4BJPmyh/XBZZM0n7VI0Kzk1avSq1ysqlVpQzBzcZgnCTEG8CcJMHDhx47w2VyCeFxdykArW2btL386DSSZO6ZnoVbtzcqvO5KfNDKLnJh7f3WoPsX0FVtkxmJnjvx1VWqRqrVFmhsg21T9vKWr7vtvRakx3ILYagdeUmfX0vkZQV7qJLVZnEsPqMcfQqJRVUYwX7sZ0lg9LD/epOldpca23RpLWWQso6be6OJWVvW1KVo5v0dQEVI9wkxJtC3KSM0ezs7OjoqF4YTU1NBw8evO76CuSTwpJIJHp6etbeTd5SG440Mbf1ph/JJLZXDFul5yaX27gGapye1P+wUluljUWmUhO/VWr6T1uBP6wUVqP2KmsPtlWptb7c5Irul0LKEJct0o0Pp98h6K8q3WX13OTyWqGUcCmkguptc8slq3eNhR3Cc5O31P7+uYa9s7ZhqVWWbnJFL1DBwk1CvCncTY6NjXV3d584ceLQoUPvv/nNP/vWUZQthUUjcm9vr2y3wrWGbtL3Y/PSKTOpt/gqY6Z15SZ9fS8LySy2pg2iv37NVY5u0teFctfaDlC4SYg3BbpJvRjkJmWVTp48eeTIkb+58+CffutN5KSAKCyy2n19fQqU3OTS0tKaucmba8KRN1ivqI+T1pebXNH96EvdeXhbj68yCipLN7miF2WttR2gcJMQb67ZTSr7ZYz0YpiYmDh37lxra2tlZeUPH3vtPd88gpy+87N9CsupU6eSyeT4+LjCpaBpvI63m1wPwk2iwoSbzEdye9Opy/2jCzore1dgZVF1avKvMm1kCrdXpL81m10pWY1QpdUkRxZaM9980F9tZWtVsLUhCzcJ8aZAN5lKpSYnJ/v7+zs6Ompra/fu3fvJb+9/9zcOI+kTt7+xfedrCktbW9vAwIBst8J16dKltXKTvgdhomK0rtykr++oGJWjm/R1IQTd8PApDZHbKoZtUS7QlWUNN23rUUF2UPUqqLFO/saHT6k8PXfZtVSllbWJzOhfLu9cG2oTK4cv3CTEm0LcpIzRwsLC9PT08PCwXhuJROLw4cMvvLTj47fve9d/HFrn+thtrz/13Cv2pcmuri6FSIFSuBQ0hW5t3ORN1SgorS83uaL7qGCVpZtc0YtS64ZNp6ZTl92iu6FobDs6bJVqZg1kFlXp26rq1KSkgmdAs/bmNgxfuEmIN4W4Sb0G9Eqwn3WfO3eupaWlpqZm3759L7300i0P/e4jN+/5k38/uN503Tf3q+M3/+il3/z2d3v37q2urlZYent7x8bGNEC7gWNN3KTvseqoGK0rN+nrOypG5egmfV0IQdenfeEltziTurRpW7dbdJVqZuWMmxzybVV1akJSIeMmf7959obhCzcJ8eaa3aSNO+7D7uHh4a6urhMnTlRWVr722msvv/zyb37zmyeeeGLLli2bN2/etGnTz+PLxo0b1UF187HHHtu6deszzzzzu9+lreTRo0c1FmtEHhwcnJqaUqDsS5OlHjhyTgkrnqyOCtb6cpMruo8KVlm6yRW9KLWu35jxhcuLrb2zkls0yRRapRrr5G/YeErl6blLspXWQJWbXu5WIe0mMwVT2ptmLYYs3CTEm2tzk0Ljjl4Aly5dsqFnfHw8mUyePn26qampqio9Yu7atUue8sUXX3z22WflLJ9e5tfxwjqlDj733HMvvPCCuvzqq6++8cYbctWJRKKjo0NhsWcDKVAhfMwtck0J772xEgWlKHuCgiFzQlCUMyc6CfCtjSflJrNrZAG9s7xy5fqNJ62mtfeC1bx8dMiaaUOrEa5SbnLjy91WlipPTWitNnc1YQo3CfHmmt2k0AtAQ8/S0tL8/PzMzIw8kxnK5ubm+vr6ior0g7v37du3Z8+e3bt3y2MZO+OFdUod3Lt37+uvv64uHz16tK6u7sSJE52dnefOndOgPD09rRC5X3MLL4KlIeeUsOL/9KCCtb7c5Iruo4JVlm5yRS+iINnBb/38pK8y+sJNQrwpxE1q6NFrQK+Eixcvyi3JM8lQ9vf3d3d3t7e3nzx5MpFINDQ01NbWVldXV2WojB3WL3VQ3ZSHVpdlptV9DRby1mYlU6mUPbRc4Sq1lRS5poTrbqhAQWlduUlf31ExKkc36etCRJRxk82+yugLNwnxphA3KZyhtDuUGoMmJiY0DA0MDPT19ekF09XV1dnZ2dHR0RZf5B3VQXVTnZWTVsfVfY0UCsXMzIzCEqaVFHiCEISbRIUJN7nOhZuEeFOUm9QApNeD3aGcnZ2dnp6WkRodHR0eHh4cHJS16u/vTy5zLi54/cmgDqqb6qy6rFF4fHxcQVAozEq6Z0wKL3ClREdZfUpY8T/EUcFaX25yRfdRwSpLN7miF6hg4SYh3hToJoUGIL0ShF4Ssk0yTwsLC6lUSl5KQ9LMzMzUMpMxxXon+6jOqsvquLqvIDgfqeAoSsILWYnRgVadEv7s+qMoKK0rN+nrOypG5egmfV1AxQg3CfGmcDcp0kYp6yalLNTS0pK8lF4nMlXzGWSwYoz1UZ0V6rX5SIUifCspdKzVp4RvHUVBaX25yRXdRwWrLN3kil6ggoWbhHhTlJs00o5p2VMKvUKETJUhfxlXvB5msF5bBBQKYWHxYhQKOpyOvnJK+NNvvYmC0rpyk76+o2JUjm7S1wVUjHCTEG8CcJNG2jplkfZT6w+v8xm8uISIDsqUUGrhJlFhwk2uc+EmId4E5iYdaSe1jvGisBbo6KtOCe/55hEUlNaVm/T1HRWjcnSTvi6gYoSbhHgTvJuEtYIpIQThJlFhwk2uc+EmId7gJuPDqlPCgQMH3v2NwygoaYpNJBLrwU2SOcEqyplDAoQgucn4DR0ADtxkfMieEkZHRzVsNTU1MSUEK8Uz3m6SzCmRopw5JEAI2h/HoQPAgZuMDzYlXLx4cXZ2VlNCd3f3iRMnDh065BvUUDE6ePDg8ePHFduRkZGYuUkyp6SKcuaQACHoQByHDgAHbjI+ZE8JY2NjPT09zc3NR44cedd/HEJBSfHURKvYatLVlKBoK+ZxcpNkTokU5czJlQDvXtELVLAOx3HoAHDgJuODmxI0VI2Pj/f29ra0tFRUVPgGNVSMFM+TJ0/29fVp0k2lUvGYEsicEBTlzMmVALjJAHU0jkMHgAM3GR80JWhsWlpa0lA1MTGRTCY7Ojrq6ur+5N8PoqBUW1vb1tbW39+vCM9n/hu7pgRF3rsG5QmZE4KinDm5EuBdK3qBClZNHIcOAAduMj7YlHDp0iUNVVNTU4ODg2fOnEkkEkeOHNm1a9cLL7zw5JNPPv7445s3b960adPPlvkprMAis3HjRsVqy5YtTz311PPPP68YKpKKZ1dX19DQ0OTk5MLCgibg2LhJMqd4LDJllzkkQFBYZNbP0AHgwE3GBzclaKiyJ3309fW1trbW19cfPnx4z54927Zte/HFF5999tlnnnnm6aef/jXkRvFRlJ577jlNpdu3b1f0NB80NDQonorq6OjozMzM4uKioq2Yl/uUQOYESDlmDgkQIOtq6ABw4Cbjg00Jly9fvnjxYiqV0jvg4eHh7u7ulpaWY8eOVVZWHjp0aN++fRrddu/e/SpclV27dilKe/fuVcQUN0VPMVQkFU+7uzA3N7e0tGS/yiz3KYHMCZByzBwSIEDW1dAB4MBNxgcNTOKtt95y9xjGx8cHBwc1irW3tzc3Nzc2NtbX11dXV1dVVWmMg6ujKNXU1NTV1Sluip5iqEgqnoqqYqsIK872WZXwrkF5Yl0gc4Ki7DLHzoQECIr1M3QAOHCTsUJjk91j0Hvf+fl5jVwTExPDw8PJZLKnp6erq6uzs7MtQyvkgaaBjo4OxU2TgWKoSNp84L5EH5u7C2ROsJRd5pAAwbJ+hg4AAzcZNzRCaaiyD630Jnh2dnZ6eloD2cjIiEY0vT8eGBjoh/xQrBQxxU3RUwwVScXT5gP3QVVspgQyJ0DKMXNIgABZV0MHgMBNxg2NUBqqbFZYWlpaXFxMpVIayGZmZqampiYnJycgbxQuoZlA0VMMFUnNsvadJ0U4ZvMBmRMg5Zg5JECAlGMCABQDbjKG2FDlJoZLly5pFNN7Yk0PGtHgWlHcFD3FUJG0ySCutxasU2ROUJRd5ti5kQBBsX6GDgDcZDyxActmBTcxGBraIE+8kGWwyUDEez6wrpE5ReKFLEN5ZY6dIQlQJF7IMqyToQPWObjJ2GLDlkMDGRSJF8oMXpTjiNfDZbzOQxF4oczgRTnCeCe6jNcHKAIvlBm8KAPEC9wkAAAAABQObhIAAAAACgc3CQAAAACFg5sEAAAAgMLBTQIAAABA4eAmAQAAAKBwcJMAAAAAUDi4SQAAAAAoHNwkAAAAABQObhIAAAAACgc3CQAAAACFg5sEAAAAgMLBTQIAAABA4eAmAQAAAKBwcJMAAAAAUDi4SQAAAAAoHNwkAAAAABQObhIAAAAACgc3CQAAAACFg5sEAAAAgMLBTQIAAABA4eAmAQAAAKBwcJMAAAAAUDi4SQAAAAAoHNwkAAAAABQObhIAAAAACgc3CQAAAACFg5sEAAAAgMLBTQIAAABA4eAmAQAAAKBwcJMAAAAAUChXrvz/S6xLf2XPRYwAAAAASUVORK5CYII=)"
      ]
    },
    {
      "cell_type": "markdown",
      "metadata": {
        "id": "e1YV1GCcLSxd"
      },
      "source": [
        "## References:\n",
        "\n",
        "1. Natasha Meah (2021). \"Singapore is in 'Phase 2 (heightened alert)' to curb Covid-19 spread. How is this different from past phases?\" , TODAY, 14 May 2021. Available at:\n",
        "https://www.todayonline.com/singapore/singapore-phase-2-heightened-alert-curb-covid-19-spread-how-different-past-phases (Accessed 15 May 2021). \n",
        "\n",
        "2. Energy Market Authority (2020), \"Average Monthly Household Electrivty Consumption by Dwelling Type\", viewed 15 May 2021. Available at: https://data.gov.sg/dataset/average-monthly-household-electricity-consumption-by-dwelling-type\n",
        "\n",
        "3. Hannah Ritchie, Esteban Ortiz-Ospina, Diana Beltekian, Edouard Mathieu, Joe Hasell, Bobbie Macdonald, Charlie Giattino, Cameron Appel, Lucas Rodés-Guirao and Max Roser (2021), \"Singapore: Coronavirus Pandemic Country Profile\", viewed 15 May 2021. Available at: https://ourworldindata.org/coronavirus/country/singapore\n",
        "\n",
        "4. National Environment Agency (2021), \"Surface Air Temperature - Monthly Mean\", viewed 18 May 2021. Available at: https://data.gov.sg/dataset/surface-air-temperature-monthly-mean\n",
        "\n",
        "5. National Environment Agency (2021), \"Relative Humidity - Monthly Mean\", viewed 18 May 2021. Available at: https://data.gov.sg/dataset/relative-humidity-monthly-mean"
      ]
    }
  ]
}